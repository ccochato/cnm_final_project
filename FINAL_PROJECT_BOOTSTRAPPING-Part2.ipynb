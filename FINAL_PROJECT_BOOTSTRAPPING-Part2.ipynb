{
 "cells": [
  {
   "cell_type": "markdown",
   "metadata": {},
   "source": [
    "# Monte Carlo - Bootstrapping Part 2"
   ]
  },
  {
   "cell_type": "markdown",
   "metadata": {},
   "source": [
    "Name: Carlos Cocha"
   ]
  },
  {
   "cell_type": "code",
   "execution_count": 1,
   "metadata": {},
   "outputs": [],
   "source": [
    "import statistics\n",
    "import numpy as np\n",
    "import pandas as pd\n",
    "import scipy.stats as stats\n",
    "import matplotlib.pyplot as plt\n",
    "from matplotlib.gridspec import GridSpec"
   ]
  },
  {
   "cell_type": "markdown",
   "metadata": {},
   "source": [
    "###  Read (or code directly) your 𝑥𝑖 ± 𝜎𝑥𝑖, 𝑦𝑖 ± 𝜎𝑦𝑖"
   ]
  },
  {
   "cell_type": "code",
   "execution_count": 2,
   "metadata": {},
   "outputs": [
    {
     "data": {
      "text/html": [
       "<div>\n",
       "<style scoped>\n",
       "    .dataframe tbody tr th:only-of-type {\n",
       "        vertical-align: middle;\n",
       "    }\n",
       "\n",
       "    .dataframe tbody tr th {\n",
       "        vertical-align: top;\n",
       "    }\n",
       "\n",
       "    .dataframe thead th {\n",
       "        text-align: right;\n",
       "    }\n",
       "</style>\n",
       "<table border=\"1\" class=\"dataframe\">\n",
       "  <thead>\n",
       "    <tr style=\"text-align: right;\">\n",
       "      <th></th>\n",
       "      <th>x</th>\n",
       "      <th>y</th>\n",
       "      <th>sigma_x</th>\n",
       "      <th>sigma_y</th>\n",
       "    </tr>\n",
       "  </thead>\n",
       "  <tbody>\n",
       "    <tr>\n",
       "      <th>0</th>\n",
       "      <td>0.50</td>\n",
       "      <td>2.40</td>\n",
       "      <td>0.02</td>\n",
       "      <td>0.6</td>\n",
       "    </tr>\n",
       "    <tr>\n",
       "      <th>1</th>\n",
       "      <td>0.90</td>\n",
       "      <td>3.10</td>\n",
       "      <td>0.09</td>\n",
       "      <td>1.8</td>\n",
       "    </tr>\n",
       "    <tr>\n",
       "      <th>2</th>\n",
       "      <td>1.50</td>\n",
       "      <td>4.70</td>\n",
       "      <td>0.15</td>\n",
       "      <td>1.5</td>\n",
       "    </tr>\n",
       "    <tr>\n",
       "      <th>3</th>\n",
       "      <td>1.80</td>\n",
       "      <td>4.90</td>\n",
       "      <td>0.18</td>\n",
       "      <td>0.6</td>\n",
       "    </tr>\n",
       "    <tr>\n",
       "      <th>4</th>\n",
       "      <td>2.65</td>\n",
       "      <td>6.30</td>\n",
       "      <td>0.45</td>\n",
       "      <td>3.0</td>\n",
       "    </tr>\n",
       "    <tr>\n",
       "      <th>5</th>\n",
       "      <td>3.00</td>\n",
       "      <td>8.05</td>\n",
       "      <td>0.05</td>\n",
       "      <td>0.2</td>\n",
       "    </tr>\n",
       "    <tr>\n",
       "      <th>6</th>\n",
       "      <td>3.45</td>\n",
       "      <td>8.80</td>\n",
       "      <td>0.07</td>\n",
       "      <td>0.4</td>\n",
       "    </tr>\n",
       "    <tr>\n",
       "      <th>7</th>\n",
       "      <td>4.10</td>\n",
       "      <td>11.50</td>\n",
       "      <td>0.25</td>\n",
       "      <td>3.2</td>\n",
       "    </tr>\n",
       "    <tr>\n",
       "      <th>8</th>\n",
       "      <td>4.65</td>\n",
       "      <td>11.20</td>\n",
       "      <td>0.15</td>\n",
       "      <td>0.8</td>\n",
       "    </tr>\n",
       "    <tr>\n",
       "      <th>9</th>\n",
       "      <td>5.25</td>\n",
       "      <td>14.30</td>\n",
       "      <td>0.25</td>\n",
       "      <td>2.4</td>\n",
       "    </tr>\n",
       "  </tbody>\n",
       "</table>\n",
       "</div>"
      ],
      "text/plain": [
       "      x      y  sigma_x  sigma_y\n",
       "0  0.50   2.40     0.02      0.6\n",
       "1  0.90   3.10     0.09      1.8\n",
       "2  1.50   4.70     0.15      1.5\n",
       "3  1.80   4.90     0.18      0.6\n",
       "4  2.65   6.30     0.45      3.0\n",
       "5  3.00   8.05     0.05      0.2\n",
       "6  3.45   8.80     0.07      0.4\n",
       "7  4.10  11.50     0.25      3.2\n",
       "8  4.65  11.20     0.15      0.8\n",
       "9  5.25  14.30     0.25      2.4"
      ]
     },
     "execution_count": 2,
     "metadata": {},
     "output_type": "execute_result"
    }
   ],
   "source": [
    "# Reading the data from a .csv file\n",
    "data = pd.read_csv(\"DATA.csv\")\n",
    "headers = ['x','y','sigma_x','sigma_y']\n",
    "dframe = pd.DataFrame(data.values, columns = headers)\n",
    "dframe"
   ]
  },
  {
   "cell_type": "code",
   "execution_count": 3,
   "metadata": {},
   "outputs": [],
   "source": [
    "# Copying the data into variables \n",
    "x = dframe['x']\n",
    "y = dframe['y']\n",
    "sx = dframe['sigma_x']\n",
    "sy = dframe['sigma_y']"
   ]
  },
  {
   "cell_type": "markdown",
   "metadata": {},
   "source": [
    "# Promoting this exercise into a course project"
   ]
  },
  {
   "cell_type": "markdown",
   "metadata": {},
   "source": [
    "Define your fitting function as y=y_0+m(x-x_w)"
   ]
  },
  {
   "cell_type": "code",
   "execution_count": 4,
   "metadata": {},
   "outputs": [],
   "source": [
    "def weighted_av(x, sigma):\n",
    "    '''\n",
    "    Function to calculate the weighted average of a set x.\n",
    "    \n",
    "    Parameters:\n",
    "    x     :: set of data\n",
    "    sigma :: uncertainty/sigma of the data\n",
    "    \n",
    "    Example:\n",
    "    weighted_av([2,5,4,5,7], [0.5,0.2,0.4,0.5,0.3])\n",
    "    - 5.07887\n",
    "    '''\n",
    "    n, d  = 0, 0\n",
    "    for i in range(len(x)):\n",
    "        n += x[i]/sigma[i]**2\n",
    "        d += 1/sigma[i]**2\n",
    "    x_w = n/d\n",
    "    return x_w"
   ]
  },
  {
   "cell_type": "code",
   "execution_count": 5,
   "metadata": {},
   "outputs": [],
   "source": [
    "def slope_inter(x, y):\n",
    "    '''\n",
    "    Function to calculate the intercept (a) and the slope (b) parameters of\n",
    "    y = a + b*x given the 2 sets of data (x, y)    .\n",
    "    \n",
    "    Parameter:\n",
    "    x :: set of data x \n",
    "    y :: set of data y\n",
    "    \n",
    "    Example:\n",
    "    slope_inter([0.5 , 0.9 , 1.5 , 1.8 , 2.65], [2.4 , 3.1 , 4.7 , 4.9 , 6.3])\n",
    "    (1.5731 , 1.8414)\n",
    "    '''\n",
    "    x_m = np.mean(x)\n",
    "    y_m = np.mean(y)\n",
    "    numerator = 0\n",
    "    denominator = 0\n",
    "    for i in range(len(x)):\n",
    "        numerator += (x[i]-x_m)*(y[i]-y_m)\n",
    "        denominator += (x[i]-x_m)**2\n",
    "    b = numerator/denominator\n",
    "    a = y_m - b*x_m\n",
    "    return a , b"
   ]
  },
  {
   "cell_type": "code",
   "execution_count": 6,
   "metadata": {},
   "outputs": [],
   "source": [
    "def slope_inter2(x, y):\n",
    "    '''\n",
    "    Function to calculate the intercept (y0) and the slope (m) parameters of\n",
    "    y = y0 + m*(x-x^) given the 2 sets of data (x, y)    .\n",
    "    \n",
    "    Parameter:\n",
    "    x :: set of data x \n",
    "    y :: set of data y\n",
    "    \n",
    "    Example:\n",
    "    slope_inter2([0.5 , 0.9 , 1.5 , 1.8 , 2.65], [2.4 , 3.1 , 4.7 , 4.9 , 6.3])\n",
    "    (4.279999999999999, 1.8414017341040463)\n",
    "    '''\n",
    "    x_m = np.mean(x)\n",
    "    y_m = np.mean(y)\n",
    "    numerator = 0\n",
    "    denominator = 0\n",
    "    for i in range(len(x)):\n",
    "        numerator += (x[i]-x_m)*(y[i]-y_m)\n",
    "        denominator += (x[i]-x_m)**2\n",
    "    m = numerator/denominator\n",
    "    y0 = y_m \n",
    "    return y0 , m"
   ]
  },
  {
   "cell_type": "code",
   "execution_count": 7,
   "metadata": {},
   "outputs": [],
   "source": [
    "def cov(array1, array2):\n",
    "    '''\n",
    "    Function to calculate de covariance of 2 datasets.\n",
    "    \n",
    "    Parameters:\n",
    "    array1 :: set of data1\n",
    "    array2 :: set of data2\n",
    "    \n",
    "    Example:\n",
    "    cov([1, 2, 4, 6, 3], [3, 5, 3, 2, 7])\n",
    "    -1.5    \n",
    "    '''\n",
    "    n = 0\n",
    "    M = len(array1)\n",
    "    a1_m = np.array(array1).mean()\n",
    "    a2_m = np.array(array2).mean()\n",
    "    for i in range(M):\n",
    "        n += (array1[i] - a1_m)*(array2[i] - a2_m)\n",
    "    covariance = n/(M-1)\n",
    "    return covariance"
   ]
  },
  {
   "cell_type": "code",
   "execution_count": 8,
   "metadata": {},
   "outputs": [],
   "source": [
    "def stand_d(x):\n",
    "    '''\n",
    "    Function to calculate the standard deviation of a set x.\n",
    "    \n",
    "    Parameters:\n",
    "    x :: set of data\n",
    "    \n",
    "    Example:\n",
    "    stand_d([2,5,2,4,5,7,3])\n",
    "    - 1.82574\n",
    "    '''\n",
    "    x_m = np.mean(x)\n",
    "    n = 0\n",
    "    for i in range(len(x)):\n",
    "        n += (x[i] - x_m)**2\n",
    "    sd = np.sqrt(n/(len(x) - 1))\n",
    "    return sd"
   ]
  },
  {
   "cell_type": "markdown",
   "metadata": {},
   "source": [
    "### 2. Repeat the bootstrapping approach to obtain 𝑦0𝑘,𝑚𝑘𝑘=1𝑀. Produce all the exercise output for this case (including optional ones)"
   ]
  },
  {
   "cell_type": "markdown",
   "metadata": {},
   "source": [
    "#### For each “ k th ” sample, must calculate y0_k, m_k:"
   ]
  },
  {
   "cell_type": "code",
   "execution_count": 9,
   "metadata": {},
   "outputs": [],
   "source": [
    "M = 10000\n",
    "resampling = [] # to save all the resampling data\n",
    "for i in range(M):\n",
    "    x_d , y_d = [] , []\n",
    "    for j in range(len(x)):\n",
    "        # random.randn produce random numbers with Gaussian distribution\n",
    "        x_d.append(x[j] + sx[j]*np.random.randn())\n",
    "        y_d.append(y[j] + sy[j]*np.random.randn())\n",
    "    resampling.append([x_d, y_d])"
   ]
  },
  {
   "cell_type": "code",
   "execution_count": 10,
   "metadata": {},
   "outputs": [],
   "source": [
    "y0_m_dat = np.zeros((M, 2))\n",
    "for i in range(M):\n",
    "    # Calculate the slope and interception of each resampling dataset.\n",
    "    y0_m_dat[i][0], y0_m_dat[i][1] = slope_inter2(resampling[i][0], resampling[i][1])"
   ]
  },
  {
   "cell_type": "markdown",
   "metadata": {},
   "source": [
    "#### Calculating the cov (m,y0)"
   ]
  },
  {
   "cell_type": "code",
   "execution_count": 11,
   "metadata": {},
   "outputs": [
    {
     "name": "stdout",
     "output_type": "stream",
     "text": [
      "The covariance between m and y0 is: 0.08\n"
     ]
    }
   ],
   "source": [
    "cov_m_y0 = cov(y0_m_dat[:, 0], y0_m_dat[:, 1])\n",
    "print(\"The covariance between m and y0 is:\", str(round(cov_m_y0,2)))"
   ]
  },
  {
   "cell_type": "markdown",
   "metadata": {},
   "source": [
    "In this case the covariance between the slope and the intercept is still negative but it reduces a quantity equal aproximately to the half."
   ]
  },
  {
   "cell_type": "code",
   "execution_count": 12,
   "metadata": {},
   "outputs": [
    {
     "name": "stdout",
     "output_type": "stream",
     "text": [
      "The results using Bootstrapping method are:\n",
      "y0 ± 𝜎y0 = 7.519 ± 0.566\n",
      "m ± 𝜎m = 2.387 ± 0.374\n"
     ]
    }
   ],
   "source": [
    "y0 = y0_m_dat[:, 0].mean()\n",
    "m = y0_m_dat[:, 1].mean()\n",
    "sd_y0 = stand_d(y0_m_dat[:, 0])\n",
    "sd_m = stand_d(y0_m_dat[:, 1])\n",
    "print('The results using Bootstrapping method are:')\n",
    "print('y0 ± 𝜎y0 = ' + str(round(y0, 3)) +  \" ± \" + str(round(sd_y0, 3)))\n",
    "print('m ± 𝜎m = ' + str(round(m, 3)) +  \" ± \" + str(round(sd_m, 3)))"
   ]
  },
  {
   "cell_type": "code",
   "execution_count": 13,
   "metadata": {},
   "outputs": [
    {
     "data": {
      "image/png": "[encoded data removed]",
      "text/plain": [
       "<Figure size 792x720 with 1 Axes>"
      ]
     },
     "metadata": {
      "needs_background": "light"
     },
     "output_type": "display_data"
    }
   ],
   "source": [
    "# Create a plot environment\n",
    "fig, ax = plt.subplots(figsize = (11, 10))\n",
    "# Experimental data fitting plot\n",
    "a_d , b_d = slope_inter(x, y)\n",
    "yfit = a_d + b_d*np.array(x)\n",
    "plt.plot(x, yfit, \"--\", label = \"Experimental Data Fitting: y = \"+str(round(a_d, 2))+' + '+str(round(b_d, 2))+'x')\n",
    "plt.errorbar(x,y, xerr = sx, yerr = sy, fmt = 'ro', markersize = 3, \n",
    "             ecolor = 'red', capsize = 3,  linewidth = 0.5, \n",
    "             color = 'darkblue', label = \"Experimental Data\")\n",
    "# Boostrapping data fitting plot\n",
    "plt.plot(x, y0 + m*np.array(x), \"--\", label = \"Boostrapping Data Fitting: y = \"+str(round(y0, 2))+' + '+str(round(m, 2))+'(x - '+str(round(weighted_av(x,sx),2))+')')\n",
    "# Confidence interval plot\n",
    "resid = y - yfit\n",
    "s_err = np.sqrt(np.sum(resid**2)/(len(resid) - 1))    \n",
    "t = stats.t.ppf(0.975, len(x)-1) # t = 0.975 for 95 % of confidence\n",
    "ci = t * s_err * np.sqrt(1/len(x) + (x - np.mean(x))**2/np.sum((x-np.mean(x))**2))    \n",
    "plt.fill_between(x, yfit + ci, yfit - ci, color=[1, 0, 0, 0.15], label = \"Confidence interval (95%)\") \n",
    "\n",
    "plt.xlabel('x')\n",
    "plt.ylabel('y')\n",
    "plt.title('Experimental Data')\n",
    "plt.legend()\n",
    "plt.show()"
   ]
  },
  {
   "cell_type": "markdown",
   "metadata": {},
   "source": [
    "#### Contour plot between m and y0:"
   ]
  },
  {
   "cell_type": "code",
   "execution_count": 14,
   "metadata": {},
   "outputs": [
    {
     "data": {
      "image/png": "[encoded data removed]",
      "text/plain": [
       "<Figure size 432x288 with 1 Axes>"
      ]
     },
     "metadata": {
      "needs_background": "light"
     },
     "output_type": "display_data"
    }
   ],
   "source": [
    "plt.hist2d(y0_m_dat[:, 0], y0_m_dat[:, 1], bins = 20)\n",
    "plt.xlabel('m')\n",
    "plt.ylabel('y0')\n",
    "plt.show()"
   ]
  },
  {
   "cell_type": "markdown",
   "metadata": {},
   "source": [
    "Here the correlation between the slope and the intercept is still negative but its around halh of the previous case. Leading a spread in the frequency distribution."
   ]
  },
  {
   "cell_type": "code",
   "execution_count": 15,
   "metadata": {},
   "outputs": [
    {
     "data": {
      "image/png": "[encoded data removed]",
      "text/plain": [
       "<Figure size 648x576 with 2 Axes>"
      ]
     },
     "metadata": {
      "needs_background": "light"
     },
     "output_type": "display_data"
    }
   ],
   "source": [
    "# Create a plot environment\n",
    "fig = plt.figure(figsize=(9,8))\n",
    "cm = plt.cm.get_cmap('RdYlBu_r')\n",
    "gs = GridSpec(2,1)\n",
    "# a frequency histogram\n",
    "ax1 = fig.add_subplot(gs[0,0])\n",
    "n, bins, patches = ax1.hist(y0_m_dat[:, 0], bins = 20)\n",
    "bin_centers = 0.5 * (bins[:-1] + bins[1:])\n",
    "col = bin_centers - min(bin_centers)\n",
    "col /= max(col)\n",
    "for c, p in zip(col, patches):\n",
    "    plt.setp(p, 'facecolor', cm(c))\n",
    "ax1.set_title('Frequency Distribution')\n",
    "ax1.set_ylabel('Frequency')\n",
    "ax1.set_xlabel('a')\n",
    "    \n",
    "# b frequency histogram\n",
    "ax2 = fig.add_subplot(gs[1,0])\n",
    "n, bins, patches = ax2.hist(y0_m_dat[:, 1], bins = 20)\n",
    "bin_centers = 0.5 * (bins[:-1] + bins[1:])\n",
    "col = bin_centers - min(bin_centers)\n",
    "col /= max(col)\n",
    "for c, p in zip(col, patches):\n",
    "    plt.setp(p, 'facecolor', cm(c))\n",
    "ax2.set_ylabel('Frequency')\n",
    "ax2.set_xlabel('b')\n",
    "plt.show() "
   ]
  },
  {
   "cell_type": "markdown",
   "metadata": {},
   "source": [
    "#### Compare your value of y0 with y^ "
   ]
  },
  {
   "cell_type": "code",
   "execution_count": 16,
   "metadata": {
    "scrolled": true
   },
   "outputs": [
    {
     "data": {
      "image/png": "[encoded data removed]",
      "text/plain": [
       "<Figure size 432x288 with 1 Axes>"
      ]
     },
     "metadata": {
      "needs_background": "light"
     },
     "output_type": "display_data"
    },
    {
     "data": {
      "image/png": "[encoded data removed]",
      "text/plain": [
       "<Figure size 432x288 with 1 Axes>"
      ]
     },
     "metadata": {
      "needs_background": "light"
     },
     "output_type": "display_data"
    }
   ],
   "source": [
    "Ms = [100,500, 1000, 5000, 10000,  25000, 50000, 100000]\n",
    "y0s = []\n",
    "x0s = []\n",
    "for k in Ms:\n",
    "    x_hat, y_hat = [], []\n",
    "    for i in range(k):\n",
    "        x_d , y_d = [] , []\n",
    "        for j in range(len(x)):\n",
    "            # random.randn produce random numbers with Gaussian distribution\n",
    "            x_d.append(x[j] + sx[j]*np.random.randn())\n",
    "            y_d.append(y[j] + sy[j]*np.random.randn())\n",
    "        # Calculate the slope and interception of each resampling dataset.\n",
    "        y0_b, m_b = slope_inter2(x_d, y_d)\n",
    "        y_hat.append(np.abs(y0_b - weighted_av(y_d, sy)))\n",
    "        x_hat.append(np.abs(np.mean(x_d) - weighted_av(x_d, sx)))\n",
    "    y0s.append( np.mean(y_hat))\n",
    "    x0s.append( np.mean(x_hat))\n",
    "plt.plot(Ms, y0s, \"or--\")\n",
    "plt.xlabel('M')\n",
    "plt.ylabel('y$_0$ - $\\hat{y}$')\n",
    "plt.show()\n",
    "\n",
    "plt.plot(Ms, x0s, \"or--\")\n",
    "plt.xlabel('M')\n",
    "plt.ylabel('x$_0$ - $\\hat{x}$')\n",
    "plt.show()"
   ]
  },
  {
   "cell_type": "code",
   "execution_count": null,
   "metadata": {},
   "outputs": [],
   "source": []
  }
 ],
 "metadata": {
  "kernelspec": {
   "display_name": "Python 3",
   "language": "python",
   "name": "python3"
  },
  "language_info": {
   "codemirror_mode": {
    "name": "ipython",
    "version": 3
   },
   "file_extension": ".py",
   "mimetype": "text/x-python",
   "name": "python",
   "nbconvert_exporter": "python",
   "pygments_lexer": "ipython3",
   "version": "3.8.5"
  }
 },
 "nbformat": 4,
 "nbformat_minor": 4
}
