{
 "cells": [
  {
   "cell_type": "markdown",
   "metadata": {},
   "source": [
    "# Bootstrapping: Emittance uncertainty calculation"
   ]
  },
  {
   "cell_type": "code",
   "execution_count": 1,
   "metadata": {},
   "outputs": [],
   "source": [
    "import statistics\n",
    "import numpy as np\n",
    "import pandas as pd\n",
    "import scipy.stats as stats\n",
    "import matplotlib.pyplot as plt\n",
    "from matplotlib.gridspec import GridSpec\n",
    "from random import seed"
   ]
  },
  {
   "cell_type": "markdown",
   "metadata": {},
   "source": [
    "#### First, reading the raw data and displaying them in a dataframe."
   ]
  },
  {
   "cell_type": "code",
   "execution_count": 2,
   "metadata": {},
   "outputs": [
    {
     "data": {
      "text/html": [
       "<div>\n",
       "<style scoped>\n",
       "    .dataframe tbody tr th:only-of-type {\n",
       "        vertical-align: middle;\n",
       "    }\n",
       "\n",
       "    .dataframe tbody tr th {\n",
       "        vertical-align: top;\n",
       "    }\n",
       "\n",
       "    .dataframe thead th {\n",
       "        text-align: right;\n",
       "    }\n",
       "</style>\n",
       "<table border=\"1\" class=\"dataframe\">\n",
       "  <thead>\n",
       "    <tr style=\"text-align: right;\">\n",
       "      <th></th>\n",
       "      <th>Current [A]</th>\n",
       "      <th>$\\pm$ uncert. [A]</th>\n",
       "      <th>Beam size [mm]</th>\n",
       "      <th>$\\pm$ uncert. [mm]</th>\n",
       "    </tr>\n",
       "  </thead>\n",
       "  <tbody>\n",
       "    <tr>\n",
       "      <th>0</th>\n",
       "      <td>0.599469</td>\n",
       "      <td>0.000463</td>\n",
       "      <td>0.841789</td>\n",
       "      <td>0.000379</td>\n",
       "    </tr>\n",
       "    <tr>\n",
       "      <th>1</th>\n",
       "      <td>0.680176</td>\n",
       "      <td>0.000608</td>\n",
       "      <td>0.810870</td>\n",
       "      <td>0.000358</td>\n",
       "    </tr>\n",
       "    <tr>\n",
       "      <th>2</th>\n",
       "      <td>0.759980</td>\n",
       "      <td>0.000768</td>\n",
       "      <td>0.781524</td>\n",
       "      <td>0.000427</td>\n",
       "    </tr>\n",
       "    <tr>\n",
       "      <th>3</th>\n",
       "      <td>0.839422</td>\n",
       "      <td>0.000189</td>\n",
       "      <td>0.759312</td>\n",
       "      <td>0.000159</td>\n",
       "    </tr>\n",
       "    <tr>\n",
       "      <th>4</th>\n",
       "      <td>0.919748</td>\n",
       "      <td>0.000872</td>\n",
       "      <td>0.746339</td>\n",
       "      <td>0.000348</td>\n",
       "    </tr>\n",
       "    <tr>\n",
       "      <th>5</th>\n",
       "      <td>0.999935</td>\n",
       "      <td>0.000570</td>\n",
       "      <td>0.738818</td>\n",
       "      <td>0.000750</td>\n",
       "    </tr>\n",
       "    <tr>\n",
       "      <th>6</th>\n",
       "      <td>1.079443</td>\n",
       "      <td>0.000543</td>\n",
       "      <td>0.742549</td>\n",
       "      <td>0.000190</td>\n",
       "    </tr>\n",
       "    <tr>\n",
       "      <th>7</th>\n",
       "      <td>1.160010</td>\n",
       "      <td>0.000788</td>\n",
       "      <td>0.753461</td>\n",
       "      <td>0.007116</td>\n",
       "    </tr>\n",
       "    <tr>\n",
       "      <th>8</th>\n",
       "      <td>1.240282</td>\n",
       "      <td>0.000468</td>\n",
       "      <td>0.763682</td>\n",
       "      <td>0.000262</td>\n",
       "    </tr>\n",
       "    <tr>\n",
       "      <th>9</th>\n",
       "      <td>1.319938</td>\n",
       "      <td>0.000763</td>\n",
       "      <td>0.797372</td>\n",
       "      <td>0.000028</td>\n",
       "    </tr>\n",
       "    <tr>\n",
       "      <th>10</th>\n",
       "      <td>1.399743</td>\n",
       "      <td>0.000333</td>\n",
       "      <td>0.836072</td>\n",
       "      <td>0.000262</td>\n",
       "    </tr>\n",
       "  </tbody>\n",
       "</table>\n",
       "</div>"
      ],
      "text/plain": [
       "     Current [A]  $\\pm$ uncert. [A]  Beam size [mm]  $\\pm$ uncert. [mm]\n",
       "0       0.599469           0.000463        0.841789            0.000379\n",
       "1       0.680176           0.000608        0.810870            0.000358\n",
       "2       0.759980           0.000768        0.781524            0.000427\n",
       "3       0.839422           0.000189        0.759312            0.000159\n",
       "4       0.919748           0.000872        0.746339            0.000348\n",
       "5       0.999935           0.000570        0.738818            0.000750\n",
       "6       1.079443           0.000543        0.742549            0.000190\n",
       "7       1.160010           0.000788        0.753461            0.007116\n",
       "8       1.240282           0.000468        0.763682            0.000262\n",
       "9       1.319938           0.000763        0.797372            0.000028\n",
       "10      1.399743           0.000333        0.836072            0.000262"
      ]
     },
     "execution_count": 2,
     "metadata": {},
     "output_type": "execute_result"
    }
   ],
   "source": [
    "I_meas, sigm = np.loadtxt('2_medida_emittance_planeX_E_147.8_MULTIBUNCH.txt', skiprows=2, unpack=True)\n",
    "current, err_current, sigma,err_sigma  = [],[],[],[]\n",
    "for i in range(0, len(I_meas), 4):\n",
    "    current.append(np.mean(I_meas[i:i+4]))\n",
    "    err_current.append(np.std(I_meas[i:i+4]))\n",
    "    sigma.append(np.mean(sigm[i:i+4]))\n",
    "    err_sigma.append(np.std(sigm[i:i+4]))\n",
    "Data = pd.DataFrame({' Current [A]':current,\n",
    "                     '$\\pm$ uncert. [A]': err_current,\n",
    "                     'Beam size [mm]':np.array(sigma)*1000,\n",
    "                     '$\\pm$ uncert. [mm]': np.array(err_sigma)*1000})\n",
    "Data"
   ]
  },
  {
   "cell_type": "markdown",
   "metadata": {},
   "source": [
    "#### Setting the experimental set-up data"
   ]
  },
  {
   "cell_type": "code",
   "execution_count": 3,
   "metadata": {},
   "outputs": [],
   "source": [
    "I2K1 = [-0.0089, 2.1891, 0.0493] # Fitting values to transform from current to quadrupole strength\n",
    "DIST = 2.8775                    # Space (drift) between the quadrupole and the camera\n",
    "QUAD_L = 0.112                   # Quadrupole length\n",
    "light_speed = 299792458          # in m/s\n",
    "electron_rest_en = 0.5109989461  # in MeV\n",
    "energy = 147.8                   # beam energy in MeV"
   ]
  },
  {
   "cell_type": "code",
   "execution_count": 4,
   "metadata": {},
   "outputs": [],
   "source": [
    "def _get_K1_from_I(energy, I_meas):\n",
    "    '''Function to calculate the quadrupole strength using the quadrupole current'''\n",
    "    kin_en = np.sqrt(energy*energy - electron_rest_en*electron_rest_en)\n",
    "    return np.polyval(I2K1, I_meas)*light_speed/kin_en/1e6"
   ]
  },
  {
   "cell_type": "code",
   "execution_count": 5,
   "metadata": {},
   "outputs": [],
   "source": [
    "def _twiss(s_11 , s_12, s_22, energy):\n",
    "    '''Funtion to calculate the normalize emittance and the \n",
    "       twiss parameters using the components of the emittance matrix'''\n",
    "    emit = np.sqrt(abs(s_11 * s_22 - s_12 * s_12))\n",
    "    beta = s_11 / emit\n",
    "    alpha = -s_12 / emit\n",
    "    gamma = s_22 / emit\n",
    "    nemit = emit * energy / electron_rest_en * 1e6  # in mm.mrad\n",
    "    return nemit, beta, alpha, gamma"
   ]
  },
  {
   "cell_type": "code",
   "execution_count": 6,
   "metadata": {},
   "outputs": [],
   "source": [
    "def _trans_matrix_method(energy, I_meas, sigma, pl='x'):\n",
    "    '''Function to calculate the beam emittance using transfer matrices'''\n",
    "    K1 = _get_K1_from_I(energy,I_meas)\n",
    "    Rx, Ry = _get_resp_mat(K1, energy)\n",
    "    R = Rx if pl == 'x' else Ry\n",
    "    pseudo_inv = np.dot(np.linalg.inv(np.dot(np.transpose(R) , R)) , np.transpose(R))\n",
    "    [s_11, s_12, s_22] = pseudo_inv @ (sigma*sigma)\n",
    "    #s_11, s_12, s_22 = np.linalg.lstsq(R, sigma * sigma, rcond=None)[0]\n",
    "    nemit, beta, alpha, gamma = _twiss(s_11, s_12, s_22, energy)\n",
    "    return nemit, beta, alpha, gamma"
   ]
  },
  {
   "cell_type": "code",
   "execution_count": 7,
   "metadata": {},
   "outputs": [],
   "source": [
    "def quadratic_fit(x,y):\n",
    "    x = np.array(x)\n",
    "    y = np.array(y)\n",
    "    x2 = x*x\n",
    "    x_m = np.mean(x)\n",
    "    y_m = np.mean(y)\n",
    "    x2_m = np.mean(x2)\n",
    "    sxx, sxy, sxx2, sx2x2, sx2y = 0, 0, 0, 0, 0\n",
    "    for i in range(len(x)): \n",
    "        sxx += (x[i] - x_m)**2 \n",
    "        sxy += (x[i] - x_m)*(y[i] - y_m) \n",
    "        sxx2 += (x[i] - x_m)*(x2[i] - x2_m) \n",
    "        sx2x2 += (x2[i] - x2_m)**2 \n",
    "        sx2y += (x2[i] - x2_m)*(y[i] - y_m)  \n",
    "    \n",
    "    b = (sxy*sx2x2-sx2y*sxx2)/(sxx*sx2x2-sxx2*sxx2)\n",
    "    c = (sx2y*sxx-sxy*sxx2)/(sxx*sx2x2-sxx2*sxx2)\n",
    "    a = y_m - b*x_m - c*x2_m\n",
    "    return a, b, c"
   ]
  },
  {
   "cell_type": "code",
   "execution_count": 8,
   "metadata": {},
   "outputs": [],
   "source": [
    "def _thin_lens_method(energy, I_meas, sigma, pl='x'):\n",
    "    '''Function to calculate the beam emittance using the thin lens approximation \n",
    "      method with quadratic fitting parameters'''\n",
    "    I_meas2 = I_meas if pl == 'x' else -I_meas\n",
    "    K1 = _get_K1_from_I(energy,I_meas2)\n",
    "\n",
    "    a, b, c = np.polyfit(K1, sigma*sigma, 2)\n",
    "    yd = np.sqrt(np.polyval([a, b, c], K1))\n",
    "\n",
    "    d = DIST + QUAD_L/2\n",
    "    l = QUAD_L\n",
    "    s_11 = a/(d*l)**2\n",
    "    s_12 = (-b-2*d*l*s_11)/(2*l*d*d)\n",
    "    s_22 = (c-s_11-2*d*s_12)/d**2\n",
    "    nemit, beta, alpha, gamma = _twiss(s_11, s_12, s_22, energy)\n",
    "    return nemit, beta, alpha, gamma"
   ]
  },
  {
   "cell_type": "code",
   "execution_count": 9,
   "metadata": {},
   "outputs": [
    {
     "name": "stdout",
     "output_type": "stream",
     "text": [
      "0.6209554958532877 -5.0567924307907886 14.355495853288158\n",
      "0.5714285714285722 -4.571428571428575 13.285714285714292\n"
     ]
    }
   ],
   "source": [
    "a,b,c = np.polyfit([1,2,3,4,5,6,7] ,[9,7,5,3,5,7,9], 2, w=1/np.array([0.9,0.5,0.5,0.5,0.5,0.5,0.5])**2)\n",
    "print(a,b,c)\n",
    "a2,b2,c2 = np.polyfit([1,2,3,4,5,6,7] ,[9,7,5,3,5,7,9], 2)\n",
    "print(a2,b2,c2)"
   ]
  },
  {
   "cell_type": "code",
   "execution_count": 10,
   "metadata": {},
   "outputs": [],
   "source": [
    "def gettransmat(type, L, gamma, K1=None, B=None):\n",
    "    '''Function to calculate a transfer matrix'''\n",
    "    R = np.eye(6)\n",
    "\n",
    "    if type.lower().startswith('qu') and K1 is not None and K1 == 0:\n",
    "        type = 'drift'\n",
    "    if type.lower().startswith('dr'):\n",
    "        R = np.array([\n",
    "            [1, L, 0, 0, 0, 0],\n",
    "            [0, 1, 0, 0, 0, 0],\n",
    "            [0, 0, 1, L, 0, 0],\n",
    "            [0, 0, 0, 1, 0, 0],\n",
    "            [0, 0, 0, 0, 1, L/gamma**2],\n",
    "            [0, 0, 0, 0, 0, 1],\n",
    "            ])\n",
    "    elif type.lower().startswith('qu') and K1 is not None:\n",
    "        kq = np.sqrt(abs(K1))\n",
    "        c = np.cos(kq*L)\n",
    "        s = np.sin(kq*L)\n",
    "        ch = np.cosh(kq*L)\n",
    "        sh = np.sinh(kq*L)\n",
    "        if K1 > 0:\n",
    "            x11, x12, x21 = c,  1/kq*s, -kq*s\n",
    "            y11, y12, y21 = ch, 1/kq*sh, kq*sh\n",
    "        else:\n",
    "            x11, x12, x21 = ch, 1/kq*sh, kq*sh\n",
    "            y11, y12, y21 = c,  1/kq*s, -kq*s\n",
    "        R = np.array([\n",
    "            [x11, x12, 0,   0,   0, 0],\n",
    "            [x21, x11, 0,   0,   0, 0],\n",
    "            [0,   0,   y11, y12, 0, 0],\n",
    "            [0,   0,   y21, y11, 0, 0],\n",
    "            [0,   0,   0,   0,   1, L/gamma**2],\n",
    "            [0,   0,   0,   0,   0, 1],\n",
    "            ])\n",
    "    elif type.lower().startswith('sol') and B is not None:\n",
    "        K = -light_speed*B/2.0/electron_rest_en/gamma/1e6\n",
    "        C = np.cos(K*L)\n",
    "        S = np.sin(K*L)\n",
    "        SC = C*S\n",
    "        C2 = C**2\n",
    "        S2 = S**2\n",
    "        R = np.array([\n",
    "            [C2,    SC/K,  SC,    S2/K, 0., 0.],\n",
    "            [-K*SC, C2,    -K*S2, SC,   0., 0.],\n",
    "            [-SC,   -S2/K, C2,    SC/K, 0., 0.],\n",
    "            [K*S2,  -SC,   -K*SC, C2,   0., 0.],\n",
    "            [0.,    0.,    0.,    0.,   1., L/(gamma**2)],\n",
    "            [0.,    0.,    0.,    0.,   0., 1.]\n",
    "            ])\n",
    "    return R"
   ]
  },
  {
   "cell_type": "code",
   "execution_count": 11,
   "metadata": {},
   "outputs": [],
   "source": [
    "def _get_resp_mat(K1, energy):\n",
    "    '''Function to calculate the total transfer matrix of the experiment'''\n",
    "    gamma = energy/electron_rest_en\n",
    "    R = np.zeros((len(K1), 6, 6))\n",
    "    Rd = gettransmat('drift', L=DIST, gamma=gamma)\n",
    "    for i, k1 in enumerate(K1):\n",
    "        Rq = gettransmat('quad', L = QUAD_L, gamma=gamma, K1=k1)\n",
    "        R[i] = np.dot(Rd, Rq)\n",
    "    R11 = R[:, 0, 0].reshape(-1, 1)\n",
    "    R12 = R[:, 0, 1].reshape(-1, 1)\n",
    "    R33 = R[:, 2, 2].reshape(-1, 1)\n",
    "    R34 = R[:, 2, 3].reshape(-1, 1)\n",
    "    Rx = np.column_stack((R11*R11, 2*R11*R12, R12*R12))\n",
    "    Ry = np.column_stack((R33*R33, 2*R33*R34, R34*R34))\n",
    "    return Rx, Ry"
   ]
  },
  {
   "cell_type": "code",
   "execution_count": 12,
   "metadata": {},
   "outputs": [],
   "source": [
    "def t_test(data1, data2):\n",
    "    '''Function to calculate the t-student test given two arrays'''\n",
    "    f=(data1.std()**2/data2.std()**2)\n",
    "    if f>0.5 and f<2:\n",
    "        t, p = stats.ttest_ind(data1,data2, equal_var=True)\n",
    "    else:\n",
    "        t, p = stats.ttest_ind(data1,data2, equal_var=False)\n",
    "    return t, p, f"
   ]
  },
  {
   "cell_type": "code",
   "execution_count": 13,
   "metadata": {},
   "outputs": [],
   "source": [
    "def plot_histo(data_tm, data_tl,  xaxis= r'$\\epsilon$ [mmm.rad]'):\n",
    "    '''Function to plot two histograms with  their main properties'''\n",
    "\n",
    "    plt.hist(data_tm, bins=50, range=[min(data_tm), max(data_tm)], fc='none',\n",
    "            histtype='step', color='black', label='TM, $\\mu$: '+str(round(data_tm.mean(),4))+' $\\sigma$: '+\n",
    "             str(round( np.std(data_tm),4)), linewidth=.8)\n",
    "    \n",
    "    plt.hist(data_tl, bins=50, range=[min(data_tl), max(data_tl)],  fc='none',\n",
    "            histtype='step', color = 'maroon', label='TL, $\\mu$: '+str(round(data_tl.mean(),4))+' $\\sigma$: '+\n",
    "             str(round( np.std(data_tl),4)), linewidth=.8)\n",
    "\n",
    "    plt.legend(loc='lower right')\n",
    "    plt.xlabel(xaxis, x=1, ha='right',size= 10 )\n",
    "    plt.ylabel('amplitude', y=1, ha='right',size= 10)\n",
    "    plt.show()"
   ]
  },
  {
   "cell_type": "code",
   "execution_count": 14,
   "metadata": {},
   "outputs": [],
   "source": [
    "def emit_montec(energy, sigma, error, I_meas, plane, M, plot = True):\n",
    "    '''Function to resample the raw data and calculate the beam emittance uncertainty'''\n",
    "    sigma_montecarlo = []\n",
    "    \n",
    "    #seed(30)\n",
    "    nemit_t,beta_t, alpha_t,gamma_t =np.zeros(M), np.zeros(M), np.zeros(M), np.zeros(M)\n",
    "    nemit_tl, beta_tl, alpha_tl, gamma_tl = np.zeros(M), np.zeros(M), np.zeros(M), np.zeros(M)\n",
    "    for m in range(M):\n",
    "        sigma_mont_s = []\n",
    "        for i in range(len(sigma)):\n",
    "            sigma_mont_s.append(sigma[i] + error[i]*np.random.randn())\n",
    "        sigma_mont_s = np.array(sigma_mont_s)\n",
    "        nemit_t[m], beta_t[m],alpha_t[m],gamma_t[m] =  _trans_matrix_method(energy, I_meas, sigma_mont_s, pl=plane)\n",
    "        nemit_tl[m], beta_tl[m], alpha_tl[m], gamma_tl[m] =_thin_lens_method(energy, I_meas, sigma_mont_s, pl=plane)\n",
    "\n",
    "    if plot==True:\n",
    "        sigma = np.array(sigma)*1000 # in mm\n",
    "        error = np.array(error)*1000 # in mm\n",
    "        K1 = _get_K1_from_I(energy,I_meas) # in mm \n",
    "        a1, b1, c1 = np.polyfit(K1,sigma*sigma , 2)\n",
    "        K = np.linspace(min(K1), max(K1), 100)\n",
    "        plt.plot(K , c1+b1*K+a1*K**2, '--', label = 'Quadratic fitting')\n",
    "        plt.errorbar( K1,sigma*sigma, yerr= 2*error, fmt = 'ro', markersize = 3, \n",
    "                 ecolor = 'red', capsize = 3,  linewidth = 0.5, \n",
    "                 color = 'darkblue', label = \"Experimental Data\")\n",
    "        plt.xlabel('K(Current [A])')\n",
    "        plt.ylabel('Beam size$^2$ [mm$^2$]')\n",
    "        plt.legend()\n",
    "        plt.show()\n",
    "\n",
    "        plot_histo(nemit_t, nemit_tl,  xaxis= r'$\\epsilon$ [mm.mrad]')\n",
    "        plot_histo(beta_t, beta_tl, xaxis= r'$\\beta$ [m]')\n",
    "        plot_histo(alpha_t, alpha_tl, xaxis= r'$\\alpha$')\n",
    "        plot_histo(gamma_t, gamma_tl,  xaxis= r'$\\gamma$ [1/m]')\n",
    "    \n",
    "    return nemit_t, nemit_tl"
   ]
  },
  {
   "cell_type": "markdown",
   "metadata": {},
   "source": [
    "#### Test of the Bootstrap method to calculate the emittance uncertainty"
   ]
  },
  {
   "cell_type": "code",
   "execution_count": 15,
   "metadata": {},
   "outputs": [
    {
     "data": {
      "image/png": "[encoded data removed]",
      "text/plain": [
       "<Figure size 432x288 with 1 Axes>"
      ]
     },
     "metadata": {
      "needs_background": "light"
     },
     "output_type": "display_data"
    },
    {
     "data": {
      "image/png": "[encoded data removed]",
      "text/plain": [
       "<Figure size 432x288 with 1 Axes>"
      ]
     },
     "metadata": {
      "needs_background": "light"
     },
     "output_type": "display_data"
    },
    {
     "data": {
      "image/png": "[encoded data removed]",
      "text/plain": [
       "<Figure size 432x288 with 1 Axes>"
      ]
     },
     "metadata": {
      "needs_background": "light"
     },
     "output_type": "display_data"
    },
    {
     "data": {
      "image/png": "[encoded data removed]",
      "text/plain": [
       "<Figure size 432x288 with 1 Axes>"
      ]
     },
     "metadata": {
      "needs_background": "light"
     },
     "output_type": "display_data"
    },
    {
     "data": {
      "image/png": "[encoded data removed]",
      "text/plain": [
       "<Figure size 432x288 with 1 Axes>"
      ]
     },
     "metadata": {
      "needs_background": "light"
     },
     "output_type": "display_data"
    }
   ],
   "source": [
    "nemit_t, nemit_tl = emit_montec(energy, sigma,err_sigma, current, 'x', 10000, plot = True)"
   ]
  },
  {
   "cell_type": "markdown",
   "metadata": {},
   "source": [
    "#### Compare the both methods differences in function of the number of random numbers"
   ]
  },
  {
   "cell_type": "code",
   "execution_count": 19,
   "metadata": {},
   "outputs": [
    {
     "name": "stderr",
     "output_type": "stream",
     "text": [
      "No handles with labels found to put in legend.\n"
     ]
    },
    {
     "data": {
      "image/png": "[encoded data removed]",
      "text/plain": [
       "<Figure size 432x288 with 1 Axes>"
      ]
     },
     "metadata": {
      "needs_background": "light"
     },
     "output_type": "display_data"
    }
   ],
   "source": [
    "Ms = [100,500, 1000, 5000, 10000, 12500]\n",
    "y0s = []\n",
    "x0s = []\n",
    "for k in Ms:\n",
    "    nemit_t, nemit_tl = emit_montec(energy, sigma,err_sigma, current, 'x', k, plot = False)\n",
    "    y0s.append(np.abs(np.mean(nemit_t)- np.mean(nemit_tl)))\n",
    "\n",
    "plt.plot(Ms, y0s, \"o--\")\n",
    "plt.xlabel('M')\n",
    "plt.ylabel('$\\epsilon_{TM}$ - $\\epsilon_{TL}$')\n",
    "plt.legend()\n",
    "plt.show()"
   ]
  },
  {
   "cell_type": "code",
   "execution_count": null,
   "metadata": {},
   "outputs": [],
   "source": []
  }
 ],
 "metadata": {
  "kernelspec": {
   "display_name": "Python 3",
   "language": "python",
   "name": "python3"
  },
  "language_info": {
   "codemirror_mode": {
    "name": "ipython",
    "version": 3
   },
   "file_extension": ".py",
   "mimetype": "text/x-python",
   "name": "python",
   "nbconvert_exporter": "python",
   "pygments_lexer": "ipython3",
   "version": "3.8.5"
  }
 },
 "nbformat": 4,
 "nbformat_minor": 4
}
