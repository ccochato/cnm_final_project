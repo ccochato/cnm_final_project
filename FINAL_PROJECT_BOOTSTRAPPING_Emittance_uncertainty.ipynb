{
 "cells": [
  {
   "cell_type": "markdown",
   "metadata": {},
   "source": [
    "# Bootstrapping: Emittance uncertainty calculation"
   ]
  },
  {
   "cell_type": "code",
   "execution_count": 1,
   "metadata": {},
   "outputs": [],
   "source": [
    "import statistics\n",
    "import numpy as np\n",
    "import pandas as pd\n",
    "import scipy.stats as stats\n",
    "import matplotlib.pyplot as plt\n",
    "from matplotlib.gridspec import GridSpec\n",
    "from random import seed"
   ]
  },
  {
   "cell_type": "markdown",
   "metadata": {},
   "source": [
    "#### First, reading the raw data and displaying them in a dataframe."
   ]
  },
  {
   "cell_type": "code",
   "execution_count": 2,
   "metadata": {},
   "outputs": [
    {
     "data": {
      "text/html": [
       "<div>\n",
       "<style scoped>\n",
       "    .dataframe tbody tr th:only-of-type {\n",
       "        vertical-align: middle;\n",
       "    }\n",
       "\n",
       "    .dataframe tbody tr th {\n",
       "        vertical-align: top;\n",
       "    }\n",
       "\n",
       "    .dataframe thead th {\n",
       "        text-align: right;\n",
       "    }\n",
       "</style>\n",
       "<table border=\"1\" class=\"dataframe\">\n",
       "  <thead>\n",
       "    <tr style=\"text-align: right;\">\n",
       "      <th></th>\n",
       "      <th>Current [A]</th>\n",
       "      <th>$\\pm$ uncert. [A]</th>\n",
       "      <th>Beam size [mm]</th>\n",
       "      <th>$\\pm$ uncert. [mm]</th>\n",
       "    </tr>\n",
       "  </thead>\n",
       "  <tbody>\n",
       "    <tr>\n",
       "      <th>0</th>\n",
       "      <td>0.500139</td>\n",
       "      <td>0.000666</td>\n",
       "      <td>0.915998</td>\n",
       "      <td>0.000268</td>\n",
       "    </tr>\n",
       "    <tr>\n",
       "      <th>1</th>\n",
       "      <td>0.619840</td>\n",
       "      <td>0.000896</td>\n",
       "      <td>0.854330</td>\n",
       "      <td>0.001384</td>\n",
       "    </tr>\n",
       "    <tr>\n",
       "      <th>2</th>\n",
       "      <td>0.740328</td>\n",
       "      <td>0.000227</td>\n",
       "      <td>0.792794</td>\n",
       "      <td>0.000159</td>\n",
       "    </tr>\n",
       "    <tr>\n",
       "      <th>3</th>\n",
       "      <td>0.859553</td>\n",
       "      <td>0.000770</td>\n",
       "      <td>0.752687</td>\n",
       "      <td>0.000094</td>\n",
       "    </tr>\n",
       "    <tr>\n",
       "      <th>4</th>\n",
       "      <td>0.980407</td>\n",
       "      <td>0.000316</td>\n",
       "      <td>0.736459</td>\n",
       "      <td>0.000241</td>\n",
       "    </tr>\n",
       "    <tr>\n",
       "      <th>5</th>\n",
       "      <td>1.100016</td>\n",
       "      <td>0.000787</td>\n",
       "      <td>0.745868</td>\n",
       "      <td>0.000243</td>\n",
       "    </tr>\n",
       "    <tr>\n",
       "      <th>6</th>\n",
       "      <td>1.220637</td>\n",
       "      <td>0.000633</td>\n",
       "      <td>0.779376</td>\n",
       "      <td>0.000391</td>\n",
       "    </tr>\n",
       "    <tr>\n",
       "      <th>7</th>\n",
       "      <td>1.340480</td>\n",
       "      <td>0.000545</td>\n",
       "      <td>0.826689</td>\n",
       "      <td>0.001263</td>\n",
       "    </tr>\n",
       "    <tr>\n",
       "      <th>8</th>\n",
       "      <td>1.459988</td>\n",
       "      <td>0.000628</td>\n",
       "      <td>0.888755</td>\n",
       "      <td>0.000530</td>\n",
       "    </tr>\n",
       "    <tr>\n",
       "      <th>9</th>\n",
       "      <td>1.579458</td>\n",
       "      <td>0.000495</td>\n",
       "      <td>0.959203</td>\n",
       "      <td>0.001335</td>\n",
       "    </tr>\n",
       "    <tr>\n",
       "      <th>10</th>\n",
       "      <td>1.699629</td>\n",
       "      <td>0.000813</td>\n",
       "      <td>1.029491</td>\n",
       "      <td>0.000854</td>\n",
       "    </tr>\n",
       "  </tbody>\n",
       "</table>\n",
       "</div>"
      ],
      "text/plain": [
       "     Current [A]  $\\pm$ uncert. [A]  Beam size [mm]  $\\pm$ uncert. [mm]\n",
       "0       0.500139           0.000666        0.915998            0.000268\n",
       "1       0.619840           0.000896        0.854330            0.001384\n",
       "2       0.740328           0.000227        0.792794            0.000159\n",
       "3       0.859553           0.000770        0.752687            0.000094\n",
       "4       0.980407           0.000316        0.736459            0.000241\n",
       "5       1.100016           0.000787        0.745868            0.000243\n",
       "6       1.220637           0.000633        0.779376            0.000391\n",
       "7       1.340480           0.000545        0.826689            0.001263\n",
       "8       1.459988           0.000628        0.888755            0.000530\n",
       "9       1.579458           0.000495        0.959203            0.001335\n",
       "10      1.699629           0.000813        1.029491            0.000854"
      ]
     },
     "execution_count": 2,
     "metadata": {},
     "output_type": "execute_result"
    }
   ],
   "source": [
    "I_meas, sigm = np.loadtxt('1_medida_emittance_planeX_E_147.8_MULTIBUNCH.txt', skiprows=2, unpack=True)\n",
    "current, err_current, sigma,err_sigma  = [],[],[],[]\n",
    "for i in range(0, len(I_meas), 4):\n",
    "    current.append(np.mean(I_meas[i:i+4]))\n",
    "    err_current.append(np.std(I_meas[i:i+4]))\n",
    "    sigma.append(np.mean(sigm[i:i+4]))\n",
    "    err_sigma.append(np.std(sigm[i:i+4]))\n",
    "Data = pd.DataFrame({' Current [A]':current,\n",
    "                     '$\\pm$ uncert. [A]': err_current,\n",
    "                     'Beam size [mm]':np.array(sigma)*1000,\n",
    "                     '$\\pm$ uncert. [mm]': np.array(err_sigma)*1000})\n",
    "Data"
   ]
  },
  {
   "cell_type": "markdown",
   "metadata": {},
   "source": [
    "#### Setting the experimental set-up data"
   ]
  },
  {
   "cell_type": "code",
   "execution_count": 3,
   "metadata": {},
   "outputs": [],
   "source": [
    "I2K1 = [-0.0089, 2.1891, 0.0493] # Fitting values to transform from current to quadrupole strength\n",
    "DIST = 2.8775                    # Space (drift) between the quadrupole and the camera\n",
    "QUAD_L = 0.112                   # Quadrupole length\n",
    "light_speed = 299792458          # in m/s\n",
    "electron_rest_en = 0.5109989461  # in MeV\n",
    "energy = 147.8                   # beam energy in MeV"
   ]
  },
  {
   "cell_type": "code",
   "execution_count": 4,
   "metadata": {},
   "outputs": [],
   "source": [
    "def _get_K1_from_I(energy, I_meas):\n",
    "    '''Function to calculate the quadrupole strength using the quadrupole current'''\n",
    "    kin_en = np.sqrt(energy*energy - electron_rest_en*electron_rest_en)\n",
    "    return np.polyval(I2K1, I_meas)*light_speed/kin_en/1e6"
   ]
  },
  {
   "cell_type": "code",
   "execution_count": 5,
   "metadata": {},
   "outputs": [],
   "source": [
    "def _twiss(s_11 , s_12, s_22, energy):\n",
    "    '''Funtion to calculate the normalize emittance and the \n",
    "       twiss parameters using the components of the emittance matrix'''\n",
    "    emit = np.sqrt(abs(s_11 * s_22 - s_12 * s_12))\n",
    "    beta = s_11 / emit\n",
    "    alpha = -s_12 / emit\n",
    "    gamma = s_22 / emit\n",
    "    nemit = emit * energy / electron_rest_en * 1e6  # in mm.mrad\n",
    "    return nemit, beta, alpha, gamma"
   ]
  },
  {
   "cell_type": "code",
   "execution_count": 6,
   "metadata": {},
   "outputs": [],
   "source": [
    "def _trans_matrix_method(energy, I_meas, sigma, pl='x'):\n",
    "    '''Function to calculate the beam emittance using transfer matrices'''\n",
    "    K1 = _get_K1_from_I(energy,I_meas)\n",
    "    Rx, Ry = _get_resp_mat(K1, energy)\n",
    "    R = Rx if pl == 'x' else Ry\n",
    "    pseudo_inv = np.dot(np.linalg.inv(np.dot(np.transpose(R) , R)) , np.transpose(R))\n",
    "    [s_11, s_12, s_22] = pseudo_inv @ (sigma*sigma)\n",
    "    #s_11, s_12, s_22 = np.linalg.lstsq(R, sigma * sigma, rcond=None)[0]\n",
    "    nemit, beta, alpha, gamma = _twiss(s_11, s_12, s_22, energy)\n",
    "    return nemit, beta, alpha, gamma"
   ]
  },
  {
   "cell_type": "code",
   "execution_count": 7,
   "metadata": {},
   "outputs": [],
   "source": [
    "def _thin_lens_method(energy, I_meas, sigma, pl='x', weighted = 'False', error=[]):\n",
    "    '''Function to calculate the beam emittance using the thin lens approximation \n",
    "      method with quadratic fitting parameters'''\n",
    "    I_meas2 = I_meas if pl == 'x' else -I_meas\n",
    "    K1 = _get_K1_from_I(energy,I_meas2)\n",
    "    \n",
    "    if weighted == 'True':\n",
    "        a, b, c = np.polyfit(K1, sigma*sigma, 2, w=1/np.array(error)**2)\n",
    "    else:  \n",
    "        a, b, c = np.polyfit(K1, sigma*sigma, 2)\n",
    "    yd = np.sqrt(np.polyval([a, b, c], K1))\n",
    "\n",
    "    d = DIST + QUAD_L/2\n",
    "    l = QUAD_L\n",
    "    s_11 = a/(d*l)**2\n",
    "    s_12 = (-b-2*d*l*s_11)/(2*l*d*d)\n",
    "    s_22 = (c-s_11-2*d*s_12)/d**2\n",
    "    nemit, beta, alpha, gamma = _twiss(s_11, s_12, s_22, energy)\n",
    "    return nemit, beta, alpha, gamma"
   ]
  },
  {
   "cell_type": "code",
   "execution_count": 8,
   "metadata": {},
   "outputs": [
    {
     "name": "stdout",
     "output_type": "stream",
     "text": [
      "0.6209554958532877 -5.0567924307907886 14.355495853288158\n",
      "0.5714285714285722 -4.571428571428575 13.285714285714292\n"
     ]
    }
   ],
   "source": [
    "a,b,c = np.polyfit([1,2,3,4,5,6,7] ,[9,7,5,3,5,7,9], 2, w=1/np.array([0.9,0.5,0.5,0.5,0.5,0.5,0.5])**2)\n",
    "print(a,b,c)\n",
    "a2,b2,c2 = np.polyfit([1,2,3,4,5,6,7] ,[9,7,5,3,5,7,9], 2)\n",
    "print(a2,b2,c2)"
   ]
  },
  {
   "cell_type": "code",
   "execution_count": 9,
   "metadata": {},
   "outputs": [],
   "source": [
    "def gettransmat(type, L, gamma, K1=None, B=None):\n",
    "    '''Function to calculate a transfer matrix'''\n",
    "    R = np.eye(6)\n",
    "\n",
    "    if type.lower().startswith('qu') and K1 is not None and K1 == 0:\n",
    "        type = 'drift'\n",
    "    if type.lower().startswith('dr'):\n",
    "        R = np.array([\n",
    "            [1, L, 0, 0, 0, 0],\n",
    "            [0, 1, 0, 0, 0, 0],\n",
    "            [0, 0, 1, L, 0, 0],\n",
    "            [0, 0, 0, 1, 0, 0],\n",
    "            [0, 0, 0, 0, 1, L/gamma**2],\n",
    "            [0, 0, 0, 0, 0, 1],\n",
    "            ])\n",
    "    elif type.lower().startswith('qu') and K1 is not None:\n",
    "        kq = np.sqrt(abs(K1))\n",
    "        c = np.cos(kq*L)\n",
    "        s = np.sin(kq*L)\n",
    "        ch = np.cosh(kq*L)\n",
    "        sh = np.sinh(kq*L)\n",
    "        if K1 > 0:\n",
    "            x11, x12, x21 = c,  1/kq*s, -kq*s\n",
    "            y11, y12, y21 = ch, 1/kq*sh, kq*sh\n",
    "        else:\n",
    "            x11, x12, x21 = ch, 1/kq*sh, kq*sh\n",
    "            y11, y12, y21 = c,  1/kq*s, -kq*s\n",
    "        R = np.array([\n",
    "            [x11, x12, 0,   0,   0, 0],\n",
    "            [x21, x11, 0,   0,   0, 0],\n",
    "            [0,   0,   y11, y12, 0, 0],\n",
    "            [0,   0,   y21, y11, 0, 0],\n",
    "            [0,   0,   0,   0,   1, L/gamma**2],\n",
    "            [0,   0,   0,   0,   0, 1],\n",
    "            ])\n",
    "    elif type.lower().startswith('sol') and B is not None:\n",
    "        K = -light_speed*B/2.0/electron_rest_en/gamma/1e6\n",
    "        C = np.cos(K*L)\n",
    "        S = np.sin(K*L)\n",
    "        SC = C*S\n",
    "        C2 = C**2\n",
    "        S2 = S**2\n",
    "        R = np.array([\n",
    "            [C2,    SC/K,  SC,    S2/K, 0., 0.],\n",
    "            [-K*SC, C2,    -K*S2, SC,   0., 0.],\n",
    "            [-SC,   -S2/K, C2,    SC/K, 0., 0.],\n",
    "            [K*S2,  -SC,   -K*SC, C2,   0., 0.],\n",
    "            [0.,    0.,    0.,    0.,   1., L/(gamma**2)],\n",
    "            [0.,    0.,    0.,    0.,   0., 1.]\n",
    "            ])\n",
    "    return R"
   ]
  },
  {
   "cell_type": "code",
   "execution_count": 10,
   "metadata": {},
   "outputs": [],
   "source": [
    "def _get_resp_mat(K1, energy):\n",
    "    '''Function to calculate the total transfer matrix of the experiment'''\n",
    "    gamma = energy/electron_rest_en\n",
    "    R = np.zeros((len(K1), 6, 6))\n",
    "    Rd = gettransmat('drift', L=DIST, gamma=gamma)\n",
    "    for i, k1 in enumerate(K1):\n",
    "        Rq = gettransmat('quad', L = QUAD_L, gamma=gamma, K1=k1)\n",
    "        R[i] = np.dot(Rd, Rq)\n",
    "    R11 = R[:, 0, 0].reshape(-1, 1)\n",
    "    R12 = R[:, 0, 1].reshape(-1, 1)\n",
    "    R33 = R[:, 2, 2].reshape(-1, 1)\n",
    "    R34 = R[:, 2, 3].reshape(-1, 1)\n",
    "    Rx = np.column_stack((R11*R11, 2*R11*R12, R12*R12))\n",
    "    Ry = np.column_stack((R33*R33, 2*R33*R34, R34*R34))\n",
    "    return Rx, Ry"
   ]
  },
  {
   "cell_type": "code",
   "execution_count": 11,
   "metadata": {},
   "outputs": [],
   "source": [
    "def t_test(data1, data2):\n",
    "    '''Function to calculate the t-student test given two arrays'''\n",
    "    f=(data1.std()**2/data2.std()**2)\n",
    "    if f>0.5 and f<2:\n",
    "        t, p = stats.ttest_ind(data1,data2, equal_var=True)\n",
    "    else:\n",
    "        t, p = stats.ttest_ind(data1,data2, equal_var=False)\n",
    "    return t, p, f"
   ]
  },
  {
   "cell_type": "code",
   "execution_count": 12,
   "metadata": {},
   "outputs": [],
   "source": [
    "def plot_histo(data_tm, data_tl,data_tlw, xaxis= r'$\\epsilon$ [mmm.rad]'):\n",
    "    '''Function to plot two histograms with  their main properties'''\n",
    "\n",
    "    qx, by, n = plt.hist(data_tm, bins=50, range=[min(data_tm), max(data_tm)], fc='none',\n",
    "                         histtype='step', color='black', label='TM, $\\mu$: '+str(round(data_tm.mean(),4))+' $\\sigma$: '+\n",
    "             str(round( np.std(data_tm),4)), linewidth=.8)\n",
    "    \n",
    "    qx1, by1, n1 = plt.hist(data_tl, bins=50, range=[min(data_tl), max(data_tl)],  fc='none',\n",
    "                            histtype='step', color = 'maroon', label='TL, $\\mu$: '+str(round(data_tl.mean(),4))+' $\\sigma$: '+\n",
    "             str(round( np.std(data_tl),4)), linewidth=.8)\n",
    "    \n",
    "    qx2, by2, n2 = plt.hist(data_tlw, bins=50, range=[min(data_tlw), max(data_tlw)], fc='none',\n",
    "                         histtype='step',  label='TLW, $\\mu$: '+str(round(data_tlw.mean(),4))+' $\\sigma$: '+\n",
    "             str(round( np.std(data_tlw),4)), linewidth=.8)\n",
    "\n",
    "    plt.legend(loc='lower right')\n",
    "    plt.xlabel(xaxis, x=1, ha='right',size= 10 )\n",
    "    plt.ylabel('amplitude', y=1, ha='right',size= 10)\n",
    "    plt.show()"
   ]
  },
  {
   "cell_type": "code",
   "execution_count": 13,
   "metadata": {},
   "outputs": [],
   "source": [
    "def emit_montec(energy, sigma, error, I_meas, plane, plot = True):\n",
    "    '''Function to resample the raw data and calculate the beam emittance uncertainty'''\n",
    "    sigma_montecarlo = []\n",
    "    M = 10000\n",
    "    #seed(30)\n",
    "    nemit_t,beta_t, alpha_t,gamma_t =np.zeros(M), np.zeros(M), np.zeros(M), np.zeros(M)\n",
    "    nemit_tl, beta_tl, alpha_tl, gamma_tl = np.zeros(M), np.zeros(M), np.zeros(M), np.zeros(M)\n",
    "    nemit_tlw, beta_tlw, alpha_tlw, gamma_tlw = np.zeros(M), np.zeros(M), np.zeros(M), np.zeros(M)\n",
    "    for m in range(M):\n",
    "        sigma_mont_s = []\n",
    "        for i in range(len(sigma)):\n",
    "            sigma_mont_s.append(sigma[i] + error[i]*np.random.randn())\n",
    "        sigma_mont_s = np.array(sigma_mont_s)\n",
    "        nemit_t[m], beta_t[m],alpha_t[m],gamma_t[m] =  _trans_matrix_method(energy, I_meas, sigma_mont_s, pl=plane)\n",
    "        nemit_tlw[m], beta_tlw[m], alpha_tlw[m], gamma_tlw[m] =_thin_lens_method(energy, I_meas, sigma_mont_s, pl=plane, weighted = 'True',error=error )\n",
    "        nemit_tl[m], beta_tl[m], alpha_tl[m], gamma_tl[m] =_thin_lens_method(energy, I_meas, sigma_mont_s, pl=plane)\n",
    "\n",
    "    if plot==True:\n",
    "        \n",
    "        a1, b1, c1 = np.polyfit(I_meas, np.array(sigma)*1000, 2)\n",
    "        a2, b2, c2 = np.polyfit(I_meas, np.array(sigma)*1000, 2, w=1/np.array(error)**2)\n",
    "        I = np.linspace(min(I_meas), max(I_meas), 100)\n",
    "        plt.plot(I , c1+b1*I+a1*I**2, '--', label = 'Unweigted fitting')\n",
    "        plt.plot(I , c2+b2*I+a2*I**2, '--', label = 'Weigted fitting')\n",
    "        plt.errorbar( I_meas,np.array(sigma)*1000, yerr= np.array(error)*1000, fmt = 'ro', markersize = 3, \n",
    "                 ecolor = 'red', capsize = 3,  linewidth = 0.5, \n",
    "                 color = 'darkblue', label = \"Experimental Data\")\n",
    "        plt.xlabel('Current [A]')\n",
    "        plt.ylabel('Beam size [mm]')\n",
    "        plt.legend()\n",
    "        plt.show()\n",
    "\n",
    "        plot_histo(nemit_t, nemit_tl, nemit_tlw, xaxis= r'$\\epsilon$ [mm.mrad]')\n",
    "        plot_histo(beta_t, beta_tl, beta_tlw, xaxis= r'$\\beta$ [m]')\n",
    "        plot_histo(alpha_t, alpha_tl,alpha_tlw, xaxis= r'$\\alpha$')\n",
    "        plot_histo(gamma_t, gamma_tl, gamma_tlw, xaxis= r'$\\gamma$ [1/m]')\n",
    "    \n",
    "    return nemit_t, nemit_tl, nemit_tlw"
   ]
  },
  {
   "cell_type": "markdown",
   "metadata": {},
   "source": [
    "#### Test of the Bootstrap method to calculate the emittance uncertainty"
   ]
  },
  {
   "cell_type": "code",
   "execution_count": 14,
   "metadata": {},
   "outputs": [
    {
     "data": {
      "image/png": "[encoded data removed]",
      "text/plain": [
       "<Figure size 432x288 with 1 Axes>"
      ]
     },
     "metadata": {
      "needs_background": "light"
     },
     "output_type": "display_data"
    },
    {
     "data": {
      "image/png": "[encoded data removed]",
      "text/plain": [
       "<Figure size 432x288 with 1 Axes>"
      ]
     },
     "metadata": {
      "needs_background": "light"
     },
     "output_type": "display_data"
    },
    {
     "data": {
      "image/png": "[encoded data removed]",
      "text/plain": [
       "<Figure size 432x288 with 1 Axes>"
      ]
     },
     "metadata": {
      "needs_background": "light"
     },
     "output_type": "display_data"
    },
    {
     "data": {
      "image/png": "[encoded data removed]",
      "text/plain": [
       "<Figure size 432x288 with 1 Axes>"
      ]
     },
     "metadata": {
      "needs_background": "light"
     },
     "output_type": "display_data"
    },
    {
     "data": {
      "image/png": "[encoded data removed]",
      "text/plain": [
       "<Figure size 432x288 with 1 Axes>"
      ]
     },
     "metadata": {
      "needs_background": "light"
     },
     "output_type": "display_data"
    }
   ],
   "source": [
    "nemit_t, nemit_tl, nemit_tlw = emit_montec(energy, sigma,err_sigma, current, 'x', plot = True)"
   ]
  },
  {
   "cell_type": "code",
   "execution_count": null,
   "metadata": {},
   "outputs": [],
   "source": []
  }
 ],
 "metadata": {
  "kernelspec": {
   "display_name": "Python 3",
   "language": "python",
   "name": "python3"
  },
  "language_info": {
   "codemirror_mode": {
    "name": "ipython",
    "version": 3
   },
   "file_extension": ".py",
   "mimetype": "text/x-python",
   "name": "python",
   "nbconvert_exporter": "python",
   "pygments_lexer": "ipython3",
   "version": "3.8.5"
  }
 },
 "nbformat": 4,
 "nbformat_minor": 4
}
