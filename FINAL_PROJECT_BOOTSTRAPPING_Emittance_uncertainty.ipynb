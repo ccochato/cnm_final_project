{
 "cells": [
  {
   "cell_type": "markdown",
   "metadata": {},
   "source": [
    "# Bootstrapping: Emittance uncertainty calculation"
   ]
  },
  {
   "cell_type": "code",
   "execution_count": 1,
   "metadata": {},
   "outputs": [],
   "source": [
    "import statistics\n",
    "import numpy as np\n",
    "import pandas as pd\n",
    "import scipy.stats as stats\n",
    "import matplotlib.pyplot as plt\n",
    "from matplotlib.gridspec import GridSpec\n",
    "from random import seed"
   ]
  },
  {
   "cell_type": "markdown",
   "metadata": {},
   "source": [
    "#### First, reading the raw data and displaying them in a dataframe."
   ]
  },
  {
   "cell_type": "code",
   "execution_count": 2,
   "metadata": {},
   "outputs": [
    {
     "data": {
      "text/html": [
       "<div>\n",
       "<style scoped>\n",
       "    .dataframe tbody tr th:only-of-type {\n",
       "        vertical-align: middle;\n",
       "    }\n",
       "\n",
       "    .dataframe tbody tr th {\n",
       "        vertical-align: top;\n",
       "    }\n",
       "\n",
       "    .dataframe thead th {\n",
       "        text-align: right;\n",
       "    }\n",
       "</style>\n",
       "<table border=\"1\" class=\"dataframe\">\n",
       "  <thead>\n",
       "    <tr style=\"text-align: right;\">\n",
       "      <th></th>\n",
       "      <th>Current [A]</th>\n",
       "      <th>$\\pm$ uncert. [A]</th>\n",
       "      <th>Beam size [mm]</th>\n",
       "      <th>$\\pm$ uncert. [mm]</th>\n",
       "    </tr>\n",
       "  </thead>\n",
       "  <tbody>\n",
       "    <tr>\n",
       "      <th>0</th>\n",
       "      <td>0.500139</td>\n",
       "      <td>0.000666</td>\n",
       "      <td>0.923498</td>\n",
       "      <td>0.008285</td>\n",
       "    </tr>\n",
       "    <tr>\n",
       "      <th>1</th>\n",
       "      <td>0.619840</td>\n",
       "      <td>0.000896</td>\n",
       "      <td>0.861830</td>\n",
       "      <td>0.007841</td>\n",
       "    </tr>\n",
       "    <tr>\n",
       "      <th>2</th>\n",
       "      <td>0.740328</td>\n",
       "      <td>0.000227</td>\n",
       "      <td>0.792794</td>\n",
       "      <td>0.007036</td>\n",
       "    </tr>\n",
       "    <tr>\n",
       "      <th>3</th>\n",
       "      <td>0.859553</td>\n",
       "      <td>0.000770</td>\n",
       "      <td>0.760187</td>\n",
       "      <td>0.008366</td>\n",
       "    </tr>\n",
       "    <tr>\n",
       "      <th>4</th>\n",
       "      <td>0.980407</td>\n",
       "      <td>0.000316</td>\n",
       "      <td>0.746459</td>\n",
       "      <td>0.000241</td>\n",
       "    </tr>\n",
       "    <tr>\n",
       "      <th>5</th>\n",
       "      <td>1.100016</td>\n",
       "      <td>0.000787</td>\n",
       "      <td>0.745868</td>\n",
       "      <td>0.000243</td>\n",
       "    </tr>\n",
       "    <tr>\n",
       "      <th>6</th>\n",
       "      <td>1.220637</td>\n",
       "      <td>0.000633</td>\n",
       "      <td>0.781876</td>\n",
       "      <td>0.004196</td>\n",
       "    </tr>\n",
       "    <tr>\n",
       "      <th>7</th>\n",
       "      <td>1.340480</td>\n",
       "      <td>0.000545</td>\n",
       "      <td>0.834189</td>\n",
       "      <td>0.008481</td>\n",
       "    </tr>\n",
       "    <tr>\n",
       "      <th>8</th>\n",
       "      <td>1.459988</td>\n",
       "      <td>0.000628</td>\n",
       "      <td>0.888755</td>\n",
       "      <td>0.007457</td>\n",
       "    </tr>\n",
       "    <tr>\n",
       "      <th>9</th>\n",
       "      <td>1.579458</td>\n",
       "      <td>0.000495</td>\n",
       "      <td>0.959203</td>\n",
       "      <td>0.001335</td>\n",
       "    </tr>\n",
       "    <tr>\n",
       "      <th>10</th>\n",
       "      <td>1.699629</td>\n",
       "      <td>0.000813</td>\n",
       "      <td>1.054491</td>\n",
       "      <td>0.022434</td>\n",
       "    </tr>\n",
       "  </tbody>\n",
       "</table>\n",
       "</div>"
      ],
      "text/plain": [
       "     Current [A]  $\\pm$ uncert. [A]  Beam size [mm]  $\\pm$ uncert. [mm]\n",
       "0       0.500139           0.000666        0.923498            0.008285\n",
       "1       0.619840           0.000896        0.861830            0.007841\n",
       "2       0.740328           0.000227        0.792794            0.007036\n",
       "3       0.859553           0.000770        0.760187            0.008366\n",
       "4       0.980407           0.000316        0.746459            0.000241\n",
       "5       1.100016           0.000787        0.745868            0.000243\n",
       "6       1.220637           0.000633        0.781876            0.004196\n",
       "7       1.340480           0.000545        0.834189            0.008481\n",
       "8       1.459988           0.000628        0.888755            0.007457\n",
       "9       1.579458           0.000495        0.959203            0.001335\n",
       "10      1.699629           0.000813        1.054491            0.022434"
      ]
     },
     "execution_count": 2,
     "metadata": {},
     "output_type": "execute_result"
    }
   ],
   "source": [
    "I_meas, sigm = np.loadtxt('1_medida_emittance_planeX_E_147.8_MULTIBUNCH2.txt', skiprows=2, unpack=True)\n",
    "current, err_current, sigma,err_sigma  = [],[],[],[]\n",
    "for i in range(0, len(I_meas), 4):\n",
    "    current.append(np.mean(I_meas[i:i+4]))\n",
    "    err_current.append(np.std(I_meas[i:i+4]))\n",
    "    sigma.append(np.mean(sigm[i:i+4]))\n",
    "    err_sigma.append(np.std(sigm[i:i+4]))\n",
    "Data = pd.DataFrame({' Current [A]':current,\n",
    "                     '$\\pm$ uncert. [A]': err_current,\n",
    "                     'Beam size [mm]':np.array(sigma)*1000,\n",
    "                     '$\\pm$ uncert. [mm]': np.array(err_sigma)*1000})\n",
    "Data"
   ]
  },
  {
   "cell_type": "markdown",
   "metadata": {},
   "source": [
    "#### Setting the experimental set-up data"
   ]
  },
  {
   "cell_type": "code",
   "execution_count": 3,
   "metadata": {},
   "outputs": [],
   "source": [
    "I2K1 = [-0.0089, 2.1891, 0.0493] # Fitting values to transform from current to quadrupole strength\n",
    "DIST = 2.8775                    # Space (drift) between the quadrupole and the camera\n",
    "QUAD_L = 0.112                   # Quadrupole length\n",
    "light_speed = 299792458          # in m/s\n",
    "electron_rest_en = 0.5109989461  # in MeV\n",
    "energy = 147.8                   # beam energy in MeV"
   ]
  },
  {
   "cell_type": "code",
   "execution_count": 4,
   "metadata": {},
   "outputs": [],
   "source": [
    "def _get_K1_from_I(energy, I_meas):\n",
    "    '''Function to calculate the quadrupole strength using the quadrupole current'''\n",
    "    kin_en = np.sqrt(energy*energy - electron_rest_en*electron_rest_en)\n",
    "    return np.polyval(I2K1, I_meas)*light_speed/kin_en/1e6"
   ]
  },
  {
   "cell_type": "code",
   "execution_count": null,
   "metadata": {},
   "outputs": [],
   "source": []
  }
 ],
 "metadata": {
  "kernelspec": {
   "display_name": "Python 3",
   "language": "python",
   "name": "python3"
  },
  "language_info": {
   "codemirror_mode": {
    "name": "ipython",
    "version": 3
   },
   "file_extension": ".py",
   "mimetype": "text/x-python",
   "name": "python",
   "nbconvert_exporter": "python",
   "pygments_lexer": "ipython3",
   "version": "3.8.5"
  }
 },
 "nbformat": 4,
 "nbformat_minor": 4
}
