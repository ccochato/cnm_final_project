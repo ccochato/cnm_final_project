{
 "cells": [
  {
   "cell_type": "markdown",
   "metadata": {},
   "source": [
    "# FINAL PROJECT: BOOTSTRAPPING"
   ]
  },
  {
   "cell_type": "markdown",
   "metadata": {},
   "source": [
    "### Name: Carlos Cocha"
   ]
  },
  {
   "cell_type": "markdown",
   "metadata": {},
   "source": [
    "#### Loading the required packages"
   ]
  },
  {
   "cell_type": "code",
   "execution_count": 1,
   "metadata": {},
   "outputs": [],
   "source": [
    "import statistics\n",
    "import numpy as np\n",
    "import pandas as pd\n",
    "import scipy.stats as stats\n",
    "import matplotlib.pyplot as plt\n",
    "from matplotlib.gridspec import GridSpec"
   ]
  },
  {
   "cell_type": "code",
   "execution_count": 2,
   "metadata": {},
   "outputs": [],
   "source": [
    "def average(x, w = False, ws = 1):\n",
    "    '''\n",
    "    Function to calculate the average (weighted if w = True) of a set x.\n",
    "    \n",
    "    Parameters:\n",
    "    x     :: set of data\n",
    "    ws    :: set of weights\n",
    "    \n",
    "    Example:\n",
    "    average([2,5,4,5,7], [0.5,0.2,0.4,0.5,0.3],  w = True)\n",
    "    - 5.07887\n",
    "    '''\n",
    "    if w == True: \n",
    "        x_w = np.sum(x*ws)/np.sum(ws)\n",
    "    else:\n",
    "        x_w = np.sum(x)/len(x)\n",
    "    return x_w"
   ]
  },
  {
   "cell_type": "code",
   "execution_count": 3,
   "metadata": {},
   "outputs": [],
   "source": [
    "def slope_inter(x, y, w = False, ws = [] ):\n",
    "    '''\n",
    "    Function to calculate the intercept (y0) and the slope (m) parameters of\n",
    "    y = y0 + m*x or y = y0 + m*[x-x^](if w = True)  given  2 sets of data (x, y). \n",
    "    \n",
    "    Parameter:\n",
    "    x :: set of data x\n",
    "    y :: set of data y\n",
    "    ws:: set of weights\n",
    "    \n",
    "    Example:\n",
    "    slope_inter([0.5 , 0.9 , 1.5 , 1.8 , 2.65], [2.4 , 3.1 , 4.7 , 4.9 , 6.3])\n",
    "    (4.279999999999999, 1.8414017341040463)\n",
    "    '''\n",
    "    numerator = 0\n",
    "    denominator = 0\n",
    "    \n",
    "    if w == True:\n",
    "        x_m =  average(x, w = True, ws = ws)\n",
    "        y_m = average(y, w = True, ws = ws)\n",
    "\n",
    "        numerator = np.sum(ws*(x-x_m)*(y-y_m))\n",
    "        denominator = np.sum(ws*(x-x_m)*(x-x_m))\n",
    "        m = numerator/denominator #slope\n",
    "        y0 = y_m                  #interception\n",
    "        \n",
    "    else:\n",
    "        x_m = average(x)\n",
    "        y_m = average(y)\n",
    "        \n",
    "        numerator = np.sum((x-x_m)*(y-y_m))\n",
    "        denominator = np.sum((x-x_m)*(x-x_m))\n",
    "        m = numerator/denominator  #slope\n",
    "        y0 = y_m - m*x_m           #interception\n",
    "    \n",
    "    return y0 , m"
   ]
  },
  {
   "cell_type": "code",
   "execution_count": 4,
   "metadata": {},
   "outputs": [],
   "source": [
    "def cov(array1, array2):\n",
    "    '''\n",
    "    Function to calculate de covariance of 2 datasets.\n",
    "    \n",
    "    Parameters:\n",
    "    array1 :: set of data1\n",
    "    array2 :: set of data2\n",
    "    \n",
    "    Example:\n",
    "    cov([1, 2, 4, 6, 3], [3, 5, 3, 2, 7])\n",
    "    -1.5    \n",
    "    '''\n",
    "    n = 0\n",
    "    M = len(array1)\n",
    "    a1_m = np.array(array1).mean()\n",
    "    a2_m = np.array(array2).mean()\n",
    "    for i in range(M):\n",
    "        n += (array1[i] - a1_m)*(array2[i] - a2_m)\n",
    "    covariance = n/(M-1)\n",
    "    return covariance"
   ]
  },
  {
   "cell_type": "code",
   "execution_count": 5,
   "metadata": {},
   "outputs": [],
   "source": [
    "def stand_d(x):\n",
    "    '''\n",
    "    Function to calculate the standard deviation of a set x.\n",
    "    \n",
    "    Parameters:\n",
    "    x :: set of data\n",
    "    \n",
    "    Example:\n",
    "    stand_d([2,5,2,4,5,7,3])\n",
    "    - 1.82574\n",
    "    '''\n",
    "    x_m = np.mean(x)\n",
    "    n = 0\n",
    "    for i in range(len(x)):\n",
    "        n += (x[i] - x_m)**2\n",
    "    sd = np.sqrt(n/(len(x) - 1))\n",
    "    return sd"
   ]
  },
  {
   "cell_type": "code",
   "execution_count": 6,
   "metadata": {},
   "outputs": [],
   "source": [
    "def pearson(x, y, w = False, ws = []):\n",
    "    '''\n",
    "    Function to calculate the Pearson’s r coefficient given x and y data.\n",
    "    \n",
    "    Parameters:\n",
    "    x :: set of data\n",
    "    y :: set of data\n",
    "    ws = set of weights \n",
    "    \n",
    "    Example:\n",
    "    pearson(x, y, w = True, ws = 1/sy**2)\n",
    "    0.99463\n",
    "    '''\n",
    "    if w == True:\n",
    "        n = np.sum(ws)*np.sum(ws*x*y)-np.sum(ws*x)*np.sum(ws*y)\n",
    "        d = np.sqrt(np.sum(ws)*np.sum(ws*x*x)-(np.sum(ws*x))**2)*np.sqrt(np.sum(ws)*np.sum(ws*y*y)-(np.sum(ws*y))**2)\n",
    "        r = n/d\n",
    "    else:\n",
    "        sx = np.sqrt(np.sum((x-average(x))**2)/(len(x)-1))\n",
    "        sy = np.sqrt(np.sum((y-average(y))**2)/(len(y)-1))\n",
    "        n = cov(x, y)\n",
    "        d = sx*sy\n",
    "        r = n/d\n",
    "    return r    "
   ]
  },
  {
   "cell_type": "code",
   "execution_count": 7,
   "metadata": {},
   "outputs": [],
   "source": [
    "def plot_histo(data_tm, xlabel, ax=None, **plt_kwargs):\n",
    "    '''Function to plot the histograms with  their main properties'''\n",
    "\n",
    "    ax.hist(data_tm, bins=50, range=[min(data_tm), max(data_tm)], fc='none',\n",
    "            histtype='step', color='black', label= xlabel+' = '+str(round(data_tm.mean(),4))+\n",
    "            ' $\\pm$ ' +str(round( np.std(data_tm),4)), linewidth=.8)\n",
    "    ax.legend(loc='lower right')\n",
    "    ax.set_xlabel(xlabel, size= 10 )\n",
    "    ax.set_ylabel('amplitude', size= 10)\n",
    "    return ax"
   ]
  },
  {
   "cell_type": "markdown",
   "metadata": {},
   "source": [
    "### 1. Read the data: x𝑖 ± 𝜎x𝑖, y𝑖 ± 𝜎y𝑖"
   ]
  },
  {
   "cell_type": "code",
   "execution_count": 8,
   "metadata": {},
   "outputs": [
    {
     "data": {
      "text/html": [
       "<div>\n",
       "<style scoped>\n",
       "    .dataframe tbody tr th:only-of-type {\n",
       "        vertical-align: middle;\n",
       "    }\n",
       "\n",
       "    .dataframe tbody tr th {\n",
       "        vertical-align: top;\n",
       "    }\n",
       "\n",
       "    .dataframe thead th {\n",
       "        text-align: right;\n",
       "    }\n",
       "</style>\n",
       "<table border=\"1\" class=\"dataframe\">\n",
       "  <thead>\n",
       "    <tr style=\"text-align: right;\">\n",
       "      <th></th>\n",
       "      <th>x</th>\n",
       "      <th>y</th>\n",
       "      <th>sigma_x</th>\n",
       "      <th>sigma_y</th>\n",
       "    </tr>\n",
       "  </thead>\n",
       "  <tbody>\n",
       "    <tr>\n",
       "      <th>0</th>\n",
       "      <td>0.50</td>\n",
       "      <td>2.40</td>\n",
       "      <td>0.02</td>\n",
       "      <td>0.6</td>\n",
       "    </tr>\n",
       "    <tr>\n",
       "      <th>1</th>\n",
       "      <td>0.90</td>\n",
       "      <td>3.10</td>\n",
       "      <td>0.09</td>\n",
       "      <td>1.8</td>\n",
       "    </tr>\n",
       "    <tr>\n",
       "      <th>2</th>\n",
       "      <td>1.50</td>\n",
       "      <td>4.70</td>\n",
       "      <td>0.15</td>\n",
       "      <td>1.5</td>\n",
       "    </tr>\n",
       "    <tr>\n",
       "      <th>3</th>\n",
       "      <td>1.80</td>\n",
       "      <td>4.90</td>\n",
       "      <td>0.18</td>\n",
       "      <td>0.6</td>\n",
       "    </tr>\n",
       "    <tr>\n",
       "      <th>4</th>\n",
       "      <td>2.65</td>\n",
       "      <td>6.30</td>\n",
       "      <td>0.45</td>\n",
       "      <td>3.0</td>\n",
       "    </tr>\n",
       "    <tr>\n",
       "      <th>5</th>\n",
       "      <td>3.00</td>\n",
       "      <td>8.05</td>\n",
       "      <td>0.05</td>\n",
       "      <td>0.2</td>\n",
       "    </tr>\n",
       "    <tr>\n",
       "      <th>6</th>\n",
       "      <td>3.45</td>\n",
       "      <td>8.80</td>\n",
       "      <td>0.07</td>\n",
       "      <td>0.4</td>\n",
       "    </tr>\n",
       "    <tr>\n",
       "      <th>7</th>\n",
       "      <td>4.10</td>\n",
       "      <td>11.50</td>\n",
       "      <td>0.25</td>\n",
       "      <td>3.2</td>\n",
       "    </tr>\n",
       "    <tr>\n",
       "      <th>8</th>\n",
       "      <td>4.65</td>\n",
       "      <td>11.20</td>\n",
       "      <td>0.15</td>\n",
       "      <td>0.8</td>\n",
       "    </tr>\n",
       "    <tr>\n",
       "      <th>9</th>\n",
       "      <td>5.25</td>\n",
       "      <td>14.30</td>\n",
       "      <td>0.25</td>\n",
       "      <td>2.4</td>\n",
       "    </tr>\n",
       "  </tbody>\n",
       "</table>\n",
       "</div>"
      ],
      "text/plain": [
       "      x      y  sigma_x  sigma_y\n",
       "0  0.50   2.40     0.02      0.6\n",
       "1  0.90   3.10     0.09      1.8\n",
       "2  1.50   4.70     0.15      1.5\n",
       "3  1.80   4.90     0.18      0.6\n",
       "4  2.65   6.30     0.45      3.0\n",
       "5  3.00   8.05     0.05      0.2\n",
       "6  3.45   8.80     0.07      0.4\n",
       "7  4.10  11.50     0.25      3.2\n",
       "8  4.65  11.20     0.15      0.8\n",
       "9  5.25  14.30     0.25      2.4"
      ]
     },
     "execution_count": 8,
     "metadata": {},
     "output_type": "execute_result"
    }
   ],
   "source": [
    "# Reading the data from a .csv file\n",
    "data = pd.read_csv(\"DATA.csv\")\n",
    "headers = ['x','y','sigma_x','sigma_y']\n",
    "dframe = pd.DataFrame(data.values, columns = headers)\n",
    "dframe"
   ]
  },
  {
   "cell_type": "code",
   "execution_count": 9,
   "metadata": {},
   "outputs": [],
   "source": [
    "# Copying the data into variables \n",
    "x = dframe['x']\n",
    "y = dframe['y']\n",
    "sx = dframe['sigma_x']\n",
    "sy = dframe['sigma_y']"
   ]
  },
  {
   "cell_type": "markdown",
   "metadata": {},
   "source": [
    "### 2. Obtain up to M = 1000 sets of datapoints {{𝑥𝑖, 𝑦𝑖} k} 𝑖  = 1, …, 𝑁,  𝑘 = 1, …, 𝑀 by resampling from your experimental data. Use the generator producing random numbers with Gaussian distribution"
   ]
  },
  {
   "cell_type": "code",
   "execution_count": 10,
   "metadata": {},
   "outputs": [],
   "source": [
    "M = 1000\n",
    "resampling = [] # to save all the resampling data\n",
    "for i in range(M):\n",
    "    x_d , y_d = [] , []\n",
    "    for j in range(len(x)):\n",
    "        # random.randn produce random numbers with Gaussian distribution\n",
    "        x_d.append(x[j] + sx[j]*np.random.randn())\n",
    "        y_d.append(y[j] + sy[j]*np.random.randn())\n",
    "    resampling.append([x_d, y_d])"
   ]
  },
  {
   "cell_type": "markdown",
   "metadata": {},
   "source": [
    "### 3. For each artificially resampled dataset, calculate their own slope and intercept (do NOT calculate their errors here!)."
   ]
  },
  {
   "cell_type": "code",
   "execution_count": 11,
   "metadata": {},
   "outputs": [],
   "source": [
    "y0_m_dat = np.zeros((M, 2))  \n",
    "y0_mw_dat = np.zeros((M, 2)) # to save the weighted fitting parameters\n",
    "for i in range(M):\n",
    "    # Calculate the slope and interception of each resampling dataset.\n",
    "    y0_m_dat[i][0], y0_m_dat[i][1] = slope_inter(resampling[i][0], resampling[i][1])\n",
    "    # For the weighted fitting w = True\n",
    "    y0_mw_dat[i][0], y0_mw_dat[i][1] = slope_inter(resampling[i][0], resampling[i][1],  w = True, ws = 1/(sy**2))"
   ]
  },
  {
   "cell_type": "markdown",
   "metadata": {},
   "source": [
    "### 4. Once the loop is finished, provide as output: y0 ± 𝜎y0 and m ± 𝜎m using the mean and standard deviation of the y0𝑘, m𝑘𝑘 = 1𝑀 values obtained."
   ]
  },
  {
   "cell_type": "code",
   "execution_count": 12,
   "metadata": {
    "scrolled": true
   },
   "outputs": [
    {
     "name": "stdout",
     "output_type": "stream",
     "text": [
      "The results using y = y0 + m*x fitting are:\n",
      "y0 ± 𝜎y0 = 0.8791 ± 0.9745\n",
      "m  ± 𝜎m  = 2.4025 ± 0.3698\n",
      "cov(y0, m) = -0.3\n"
     ]
    }
   ],
   "source": [
    "# Results fot the unweighted fitting\n",
    "y0_m = y0_m_dat[:, 0].mean()\n",
    "m_m = y0_m_dat[:, 1].mean()\n",
    "sd_y0 = stand_d(y0_m_dat[:, 0])\n",
    "sd_m = stand_d(y0_m_dat[:, 1])\n",
    "print('The results using y = y0 + m*x fitting are:')\n",
    "print('y0 ± 𝜎y0 = ' + str(round(y0_m, 4)) +  \" ± \" + str(round(sd_y0, 4)))\n",
    "print('m  ± 𝜎m  = ' + str(round(m_m, 4)) +  \" ± \" + str(round(sd_m, 4)))\n",
    "cov_y0_m = cov(y0_m_dat[:, 0], y0_m_dat[:, 1])\n",
    "print(\"cov(y0, m) =\", str(round(cov_y0_m,2)))"
   ]
  },
  {
   "cell_type": "code",
   "execution_count": 13,
   "metadata": {
    "scrolled": true
   },
   "outputs": [
    {
     "name": "stdout",
     "output_type": "stream",
     "text": [
      "The results using y = y0 + m*(x - x0) fitting are:\n",
      "y0 ± 𝜎y0 = 7.6351 ± 0.1591\n",
      "m  ± 𝜎m  = 2.2136 ± 0.1868\n",
      "cov(y0, m) = 0.0\n"
     ]
    }
   ],
   "source": [
    "# Results fot the weighted fitting\n",
    "y0_mw = y0_mw_dat[:, 0].mean()\n",
    "m_mw = y0_mw_dat[:, 1].mean()\n",
    "sd_y0w = stand_d(y0_mw_dat[:, 0])\n",
    "sd_mw = stand_d(y0_mw_dat[:, 1])\n",
    "print('The results using y = y0 + m*(x - x0) fitting are:')\n",
    "print('y0 ± 𝜎y0 = ' + str(round(y0_mw, 4)) +  \" ± \" + str(round(sd_y0w, 4)))\n",
    "print('m  ± 𝜎m  = ' + str(round(m_mw, 4)) +  \" ± \" + str(round(sd_mw, 4)))\n",
    "cov_y0_mw = cov(y0_mw_dat[:, 0], y0_mw_dat[:, 1])\n",
    "print(\"cov(y0, m) =\", str(round(cov_y0_mw,2)))"
   ]
  },
  {
   "cell_type": "markdown",
   "metadata": {},
   "source": [
    "#### Contour plot between m and y0:"
   ]
  },
  {
   "cell_type": "code",
   "execution_count": 14,
   "metadata": {},
   "outputs": [
    {
     "data": {
      "image/png": "[encoded data removed]",
      "text/plain": [
       "<Figure size 648x360 with 2 Axes>"
      ]
     },
     "metadata": {
      "needs_background": "light"
     },
     "output_type": "display_data"
    }
   ],
   "source": [
    "fig = plt.figure(figsize=(9,5))\n",
    "gs = GridSpec(1,2) # 1 rows, 2 columns\n",
    "ax1 = fig.add_subplot(gs[0,0])\n",
    "ax1.hist2d(y0_m_dat[:, 1], y0_m_dat[:, 0], bins = 20)\n",
    "ax2 = fig.add_subplot(gs[0,1])\n",
    "ax2.hist2d(y0_mw_dat[:, 1], y0_mw_dat[:, 0], bins = 20)\n",
    "ax1.set_title('Unweighted contour plot')\n",
    "ax2.set_title('Weighted contour plot')\n",
    "ax1.set_xlabel(\"m\")\n",
    "ax1.set_ylabel('y0')\n",
    "ax2.set_xlabel(\"m\")\n",
    "ax2.set_ylabel('y0')\n",
    "plt.show()"
   ]
  },
  {
   "cell_type": "markdown",
   "metadata": {},
   "source": [
    "By definition, covariance measures the total variation of two random variables from their expected values. A covariance equal to 0 means that the two variables are independent each other (no linear tendency), as is observed in the weighted contour plot. But, for the unweighted contour plot a linear dependence is observed.Which make sense because y0 and m are least-squares regression parameters (y0 = 𝑦 − m*𝑥), that define the straight line that maximizes the amount of variation in y that can be explained by a linear regression on x. So, y0 and m are not independent of each other."
   ]
  },
  {
   "cell_type": "markdown",
   "metadata": {},
   "source": [
    "Also, using the covariance value allow us to estimate the direction of the relationship (whether the variables tend to move in tandem). According to the calculations the cov(y0, m) < 0 which means that y0 and m coefficientes tend to move in the opposite directions (increase in y0 corresponds a decrease in m)."
   ]
  },
  {
   "cell_type": "markdown",
   "metadata": {},
   "source": [
    "### 1D frequency histograms of {y0_𝑘}𝑘 = 1, ..., 𝑀 and {m_𝑘} 𝑘 = 1, ..., 𝑀."
   ]
  },
  {
   "cell_type": "code",
   "execution_count": 15,
   "metadata": {
    "scrolled": true
   },
   "outputs": [
    {
     "data": {
      "image/png": "[encoded data removed]",
      "text/plain": [
       "<Figure size 648x648 with 4 Axes>"
      ]
     },
     "metadata": {
      "needs_background": "light"
     },
     "output_type": "display_data"
    }
   ],
   "source": [
    "fig = plt.figure(figsize=(9,9))\n",
    "gs = GridSpec(2,2) # 1 rows, 2 columns\n",
    "ax1 = fig.add_subplot(gs[0,0])\n",
    "ax2 = fig.add_subplot(gs[0,1])\n",
    "ax3 = fig.add_subplot(gs[1,0])\n",
    "ax4 = fig.add_subplot(gs[1,1])\n",
    "plot_histo(y0_m_dat[:, 1],\"m\", ax1)\n",
    "plot_histo(y0_mw_dat[:, 1],\"m\", ax2)\n",
    "plot_histo(y0_m_dat[:, 0],\"y0\", ax3)\n",
    "plot_histo(y0_mw_dat[:, 0],\"y0\", ax4)\n",
    "ax1.set_title('Unweighted contour plot')\n",
    "ax2.set_title('Weighted contour plot')\n",
    "plt.show()"
   ]
  },
  {
   "cell_type": "markdown",
   "metadata": {},
   "source": [
    "### 5. Plot your experimental datapoints ( including errorbars ) with the result of this linear regression."
   ]
  },
  {
   "cell_type": "code",
   "execution_count": 25,
   "metadata": {},
   "outputs": [
    {
     "data": {
      "image/png": "[encoded data removed]",
      "text/plain": [
       "<Figure size 792x720 with 1 Axes>"
      ]
     },
     "metadata": {
      "needs_background": "light"
     },
     "output_type": "display_data"
    }
   ],
   "source": [
    "# Create a plot environment\n",
    "fig, ax = plt.subplots(figsize = (11, 10))\n",
    "# Experimental data fitting plot\n",
    "yfit = y0_mw + m_mw*np.array(x-average(x, w = True, ws = 1/(sy*sy)))\n",
    "plt.plot(x, y0_m + m_m*np.array(x), \"--\", label = \"Unweighted Data Fitting: y = \"+str(round(y0_m, 2))+\n",
    "         ' + '+str(round(m_m, 2))+'x, R = '+ str(round(pearson(x, y),4)))\n",
    "plt.errorbar(x,y, xerr = sx, yerr = sy, fmt = 'ro', markersize = 3, \n",
    "             ecolor = 'red', capsize = 3,  linewidth = 0.5, \n",
    "             color = 'darkblue', label = \"Experimental Data\")\n",
    "# Boostrapping data fitting plot\n",
    "plt.plot(x, yfit, \"--\", label = \"Weighted Data Fitting: y = \"+str(round(y0_mw, 2))+' + '+str(round(m_mw, 2))+\n",
    "         '(x - '+str(round(average(x, w = True, ws = 1/(sy*sy)),2))+'), R = '+\n",
    "         str(round(pearson(x, y, w= True, ws = 1/(sy*sy)),4)))\n",
    "# Confidence interval plot\n",
    "resid = y - yfit\n",
    "s_err = np.sqrt(np.sum(resid**2)/(len(resid) - 1))    \n",
    "t = stats.t.ppf(0.975, len(x)-1) # t = 0.975 for 95 % of confidence\n",
    "ci = t * s_err * np.sqrt(1/len(x) + (x - np.mean(x))**2/np.sum((x-np.mean(x))**2))    \n",
    "plt.fill_between(x, yfit + ci, yfit - ci, color=[1, 0, 0, 0.15], label = \"Confidence interval (95%)\") \n",
    "\n",
    "plt.xlabel('x')\n",
    "plt.ylabel('y')\n",
    "plt.title('Experimental Data')\n",
    "plt.legend()\n",
    "plt.show()"
   ]
  },
  {
   "cell_type": "code",
   "execution_count": null,
   "metadata": {},
   "outputs": [],
   "source": []
  }
 ],
 "metadata": {
  "kernelspec": {
   "display_name": "Python 3",
   "language": "python",
   "name": "python3"
  },
  "language_info": {
   "codemirror_mode": {
    "name": "ipython",
    "version": 3
   },
   "file_extension": ".py",
   "mimetype": "text/x-python",
   "name": "python",
   "nbconvert_exporter": "python",
   "pygments_lexer": "ipython3",
   "version": "3.8.5"
  }
 },
 "nbformat": 4,
 "nbformat_minor": 4
}
